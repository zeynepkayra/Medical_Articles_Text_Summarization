{
  "nbformat": 4,
  "nbformat_minor": 0,
  "metadata": {
    "colab": {
      "provenance": [],
      "machine_shape": "hm",
      "gpuType": "L4"
    },
    "kernelspec": {
      "name": "python3",
      "display_name": "Python 3"
    },
    "language_info": {
      "name": "python"
    },
    "accelerator": "GPU"
  },
  "cells": [
    {
      "cell_type": "markdown",
      "source": [
        "# Abstractive Summarizaiton - PEGASUS"
      ],
      "metadata": {
        "id": "wBL4uHMpL8Je"
      }
    },
    {
      "cell_type": "markdown",
      "source": [
        "## 1. Install Packages"
      ],
      "metadata": {
        "id": "y3y3Stq2Mpdm"
      }
    },
    {
      "cell_type": "code",
      "execution_count": 1,
      "metadata": {
        "colab": {
          "base_uri": "https://localhost:8080/"
        },
        "id": "7mV_lIaFyXpV",
        "outputId": "f94897fe-7ef7-4a95-deb1-cd5af5e35fb1"
      },
      "outputs": [
        {
          "output_type": "stream",
          "name": "stdout",
          "text": [
            "Collecting torch==2.0.1\n",
            "  Downloading torch-2.0.1-cp310-cp310-manylinux1_x86_64.whl (619.9 MB)\n",
            "\u001b[2K     \u001b[90m━━━━━━━━━━━━━━━━━━━━━━━━━━━━━━━━━━━━━━━━\u001b[0m \u001b[32m619.9/619.9 MB\u001b[0m \u001b[31m2.4 MB/s\u001b[0m eta \u001b[36m0:00:00\u001b[0m\n",
            "\u001b[?25hRequirement already satisfied: filelock in /usr/local/lib/python3.10/dist-packages (from torch==2.0.1) (3.14.0)\n",
            "Requirement already satisfied: typing-extensions in /usr/local/lib/python3.10/dist-packages (from torch==2.0.1) (4.11.0)\n",
            "Requirement already satisfied: sympy in /usr/local/lib/python3.10/dist-packages (from torch==2.0.1) (1.12)\n",
            "Requirement already satisfied: networkx in /usr/local/lib/python3.10/dist-packages (from torch==2.0.1) (3.3)\n",
            "Requirement already satisfied: jinja2 in /usr/local/lib/python3.10/dist-packages (from torch==2.0.1) (3.1.4)\n",
            "Collecting nvidia-cuda-nvrtc-cu11==11.7.99 (from torch==2.0.1)\n",
            "  Downloading nvidia_cuda_nvrtc_cu11-11.7.99-2-py3-none-manylinux1_x86_64.whl (21.0 MB)\n",
            "\u001b[2K     \u001b[90m━━━━━━━━━━━━━━━━━━━━━━━━━━━━━━━━━━━━━━━━\u001b[0m \u001b[32m21.0/21.0 MB\u001b[0m \u001b[31m70.1 MB/s\u001b[0m eta \u001b[36m0:00:00\u001b[0m\n",
            "\u001b[?25hCollecting nvidia-cuda-runtime-cu11==11.7.99 (from torch==2.0.1)\n",
            "  Downloading nvidia_cuda_runtime_cu11-11.7.99-py3-none-manylinux1_x86_64.whl (849 kB)\n",
            "\u001b[2K     \u001b[90m━━━━━━━━━━━━━━━━━━━━━━━━━━━━━━━━━━━━━━━━\u001b[0m \u001b[32m849.3/849.3 kB\u001b[0m \u001b[31m68.5 MB/s\u001b[0m eta \u001b[36m0:00:00\u001b[0m\n",
            "\u001b[?25hCollecting nvidia-cuda-cupti-cu11==11.7.101 (from torch==2.0.1)\n",
            "  Downloading nvidia_cuda_cupti_cu11-11.7.101-py3-none-manylinux1_x86_64.whl (11.8 MB)\n",
            "\u001b[2K     \u001b[90m━━━━━━━━━━━━━━━━━━━━━━━━━━━━━━━━━━━━━━━━\u001b[0m \u001b[32m11.8/11.8 MB\u001b[0m \u001b[31m92.1 MB/s\u001b[0m eta \u001b[36m0:00:00\u001b[0m\n",
            "\u001b[?25hCollecting nvidia-cudnn-cu11==8.5.0.96 (from torch==2.0.1)\n",
            "  Downloading nvidia_cudnn_cu11-8.5.0.96-2-py3-none-manylinux1_x86_64.whl (557.1 MB)\n",
            "\u001b[2K     \u001b[90m━━━━━━━━━━━━━━━━━━━━━━━━━━━━━━━━━━━━━━━━\u001b[0m \u001b[32m557.1/557.1 MB\u001b[0m \u001b[31m2.4 MB/s\u001b[0m eta \u001b[36m0:00:00\u001b[0m\n",
            "\u001b[?25hCollecting nvidia-cublas-cu11==11.10.3.66 (from torch==2.0.1)\n",
            "  Downloading nvidia_cublas_cu11-11.10.3.66-py3-none-manylinux1_x86_64.whl (317.1 MB)\n",
            "\u001b[2K     \u001b[90m━━━━━━━━━━━━━━━━━━━━━━━━━━━━━━━━━━━━━━━━\u001b[0m \u001b[32m317.1/317.1 MB\u001b[0m \u001b[31m3.7 MB/s\u001b[0m eta \u001b[36m0:00:00\u001b[0m\n",
            "\u001b[?25hCollecting nvidia-cufft-cu11==10.9.0.58 (from torch==2.0.1)\n",
            "  Downloading nvidia_cufft_cu11-10.9.0.58-py3-none-manylinux1_x86_64.whl (168.4 MB)\n",
            "\u001b[2K     \u001b[90m━━━━━━━━━━━━━━━━━━━━━━━━━━━━━━━━━━━━━━━━\u001b[0m \u001b[32m168.4/168.4 MB\u001b[0m \u001b[31m6.2 MB/s\u001b[0m eta \u001b[36m0:00:00\u001b[0m\n",
            "\u001b[?25hCollecting nvidia-curand-cu11==10.2.10.91 (from torch==2.0.1)\n",
            "  Downloading nvidia_curand_cu11-10.2.10.91-py3-none-manylinux1_x86_64.whl (54.6 MB)\n",
            "\u001b[2K     \u001b[90m━━━━━━━━━━━━━━━━━━━━━━━━━━━━━━━━━━━━━━━━\u001b[0m \u001b[32m54.6/54.6 MB\u001b[0m \u001b[31m31.6 MB/s\u001b[0m eta \u001b[36m0:00:00\u001b[0m\n",
            "\u001b[?25hCollecting nvidia-cusolver-cu11==11.4.0.1 (from torch==2.0.1)\n",
            "  Downloading nvidia_cusolver_cu11-11.4.0.1-2-py3-none-manylinux1_x86_64.whl (102.6 MB)\n",
            "\u001b[2K     \u001b[90m━━━━━━━━━━━━━━━━━━━━━━━━━━━━━━━━━━━━━━━━\u001b[0m \u001b[32m102.6/102.6 MB\u001b[0m \u001b[31m16.7 MB/s\u001b[0m eta \u001b[36m0:00:00\u001b[0m\n",
            "\u001b[?25hCollecting nvidia-cusparse-cu11==11.7.4.91 (from torch==2.0.1)\n",
            "  Downloading nvidia_cusparse_cu11-11.7.4.91-py3-none-manylinux1_x86_64.whl (173.2 MB)\n",
            "\u001b[2K     \u001b[90m━━━━━━━━━━━━━━━━━━━━━━━━━━━━━━━━━━━━━━━━\u001b[0m \u001b[32m173.2/173.2 MB\u001b[0m \u001b[31m3.5 MB/s\u001b[0m eta \u001b[36m0:00:00\u001b[0m\n",
            "\u001b[?25hCollecting nvidia-nccl-cu11==2.14.3 (from torch==2.0.1)\n",
            "  Downloading nvidia_nccl_cu11-2.14.3-py3-none-manylinux1_x86_64.whl (177.1 MB)\n",
            "\u001b[2K     \u001b[90m━━━━━━━━━━━━━━━━━━━━━━━━━━━━━━━━━━━━━━━━\u001b[0m \u001b[32m177.1/177.1 MB\u001b[0m \u001b[31m9.9 MB/s\u001b[0m eta \u001b[36m0:00:00\u001b[0m\n",
            "\u001b[?25hCollecting nvidia-nvtx-cu11==11.7.91 (from torch==2.0.1)\n",
            "  Downloading nvidia_nvtx_cu11-11.7.91-py3-none-manylinux1_x86_64.whl (98 kB)\n",
            "\u001b[2K     \u001b[90m━━━━━━━━━━━━━━━━━━━━━━━━━━━━━━━━━━━━━━━━\u001b[0m \u001b[32m98.6/98.6 kB\u001b[0m \u001b[31m17.2 MB/s\u001b[0m eta \u001b[36m0:00:00\u001b[0m\n",
            "\u001b[?25hCollecting triton==2.0.0 (from torch==2.0.1)\n",
            "  Downloading triton-2.0.0-1-cp310-cp310-manylinux2014_x86_64.manylinux_2_17_x86_64.whl (63.3 MB)\n",
            "\u001b[2K     \u001b[90m━━━━━━━━━━━━━━━━━━━━━━━━━━━━━━━━━━━━━━━━\u001b[0m \u001b[32m63.3/63.3 MB\u001b[0m \u001b[31m27.5 MB/s\u001b[0m eta \u001b[36m0:00:00\u001b[0m\n",
            "\u001b[?25hRequirement already satisfied: setuptools in /usr/local/lib/python3.10/dist-packages (from nvidia-cublas-cu11==11.10.3.66->torch==2.0.1) (67.7.2)\n",
            "Requirement already satisfied: wheel in /usr/local/lib/python3.10/dist-packages (from nvidia-cublas-cu11==11.10.3.66->torch==2.0.1) (0.43.0)\n",
            "Requirement already satisfied: cmake in /usr/local/lib/python3.10/dist-packages (from triton==2.0.0->torch==2.0.1) (3.27.9)\n",
            "Collecting lit (from triton==2.0.0->torch==2.0.1)\n",
            "  Downloading lit-18.1.4-py3-none-any.whl (96 kB)\n",
            "\u001b[2K     \u001b[90m━━━━━━━━━━━━━━━━━━━━━━━━━━━━━━━━━━━━━━━━\u001b[0m \u001b[32m96.4/96.4 kB\u001b[0m \u001b[31m15.7 MB/s\u001b[0m eta \u001b[36m0:00:00\u001b[0m\n",
            "\u001b[?25hRequirement already satisfied: MarkupSafe>=2.0 in /usr/local/lib/python3.10/dist-packages (from jinja2->torch==2.0.1) (2.1.5)\n",
            "Requirement already satisfied: mpmath>=0.19 in /usr/local/lib/python3.10/dist-packages (from sympy->torch==2.0.1) (1.3.0)\n",
            "Installing collected packages: lit, nvidia-nvtx-cu11, nvidia-nccl-cu11, nvidia-cusparse-cu11, nvidia-curand-cu11, nvidia-cufft-cu11, nvidia-cuda-runtime-cu11, nvidia-cuda-nvrtc-cu11, nvidia-cuda-cupti-cu11, nvidia-cublas-cu11, nvidia-cusolver-cu11, nvidia-cudnn-cu11, triton, torch\n",
            "  Attempting uninstall: triton\n",
            "    Found existing installation: triton 2.2.0\n",
            "    Uninstalling triton-2.2.0:\n",
            "      Successfully uninstalled triton-2.2.0\n",
            "  Attempting uninstall: torch\n",
            "    Found existing installation: torch 2.2.1+cu121\n",
            "    Uninstalling torch-2.2.1+cu121:\n",
            "      Successfully uninstalled torch-2.2.1+cu121\n",
            "\u001b[31mERROR: pip's dependency resolver does not currently take into account all the packages that are installed. This behaviour is the source of the following dependency conflicts.\n",
            "torchaudio 2.2.1+cu121 requires torch==2.2.1, but you have torch 2.0.1 which is incompatible.\n",
            "torchtext 0.17.1 requires torch==2.2.1, but you have torch 2.0.1 which is incompatible.\n",
            "torchvision 0.17.1+cu121 requires torch==2.2.1, but you have torch 2.0.1 which is incompatible.\u001b[0m\u001b[31m\n",
            "\u001b[0mSuccessfully installed lit-18.1.4 nvidia-cublas-cu11-11.10.3.66 nvidia-cuda-cupti-cu11-11.7.101 nvidia-cuda-nvrtc-cu11-11.7.99 nvidia-cuda-runtime-cu11-11.7.99 nvidia-cudnn-cu11-8.5.0.96 nvidia-cufft-cu11-10.9.0.58 nvidia-curand-cu11-10.2.10.91 nvidia-cusolver-cu11-11.4.0.1 nvidia-cusparse-cu11-11.7.4.91 nvidia-nccl-cu11-2.14.3 nvidia-nvtx-cu11-11.7.91 torch-2.0.1 triton-2.0.0\n"
          ]
        }
      ],
      "source": [
        "!pip install rouge --quiet\n",
        "!pip install torch==2.0.1"
      ]
    },
    {
      "cell_type": "code",
      "source": [
        "# Import modules\n",
        "import pandas as pd\n",
        "import torch\n",
        "from transformers import PegasusForConditionalGeneration, PegasusTokenizer, AdamW, get_linear_schedule_with_warmup\n",
        "from torch.utils.data import DataLoader, Dataset\n",
        "from rouge import Rouge"
      ],
      "metadata": {
        "id": "Ckxb8nTQyiRR"
      },
      "execution_count": 2,
      "outputs": []
    },
    {
      "cell_type": "code",
      "source": [
        "!pip install ohmeow-blurr -q"
      ],
      "metadata": {
        "colab": {
          "base_uri": "https://localhost:8080/"
        },
        "id": "tPDQL57OytLO",
        "outputId": "7475843e-fca5-4785-aa95-cb9e722ec49b"
      },
      "execution_count": 3,
      "outputs": [
        {
          "output_type": "stream",
          "name": "stdout",
          "text": [
            "\u001b[2K     \u001b[90m━━━━━━━━━━━━━━━━━━━━━━━━━━━━━━━━━━━━━━━━\u001b[0m \u001b[32m81.1/81.1 kB\u001b[0m \u001b[31m2.6 MB/s\u001b[0m eta \u001b[36m0:00:00\u001b[0m\n",
            "\u001b[2K     \u001b[90m━━━━━━━━━━━━━━━━━━━━━━━━━━━━━━━━━━━━━━━━\u001b[0m \u001b[32m887.5/887.5 MB\u001b[0m \u001b[31m2.0 MB/s\u001b[0m eta \u001b[36m0:00:00\u001b[0m\n",
            "\u001b[2K     \u001b[90m━━━━━━━━━━━━━━━━━━━━━━━━━━━━━━━━━━━━━━━━\u001b[0m \u001b[32m542.0/542.0 kB\u001b[0m \u001b[31m53.3 MB/s\u001b[0m eta \u001b[36m0:00:00\u001b[0m\n",
            "\u001b[2K     \u001b[90m━━━━━━━━━━━━━━━━━━━━━━━━━━━━━━━━━━━━━━━━\u001b[0m \u001b[32m43.6/43.6 kB\u001b[0m \u001b[31m6.6 MB/s\u001b[0m eta \u001b[36m0:00:00\u001b[0m\n",
            "\u001b[?25h  Preparing metadata (setup.py) ... \u001b[?25l\u001b[?25hdone\n",
            "  Preparing metadata (setup.py) ... \u001b[?25l\u001b[?25hdone\n",
            "\u001b[2K     \u001b[90m━━━━━━━━━━━━━━━━━━━━━━━━━━━━━━━━━━━━━━━━\u001b[0m \u001b[32m116.3/116.3 kB\u001b[0m \u001b[31m16.9 MB/s\u001b[0m eta \u001b[36m0:00:00\u001b[0m\n",
            "\u001b[2K     \u001b[90m━━━━━━━━━━━━━━━━━━━━━━━━━━━━━━━━━━━━━━━━\u001b[0m \u001b[32m194.1/194.1 kB\u001b[0m \u001b[31m26.0 MB/s\u001b[0m eta \u001b[36m0:00:00\u001b[0m\n",
            "\u001b[2K     \u001b[90m━━━━━━━━━━━━━━━━━━━━━━━━━━━━━━━━━━━━━━━━\u001b[0m \u001b[32m134.8/134.8 kB\u001b[0m \u001b[31m20.0 MB/s\u001b[0m eta \u001b[36m0:00:00\u001b[0m\n",
            "\u001b[2K     \u001b[90m━━━━━━━━━━━━━━━━━━━━━━━━━━━━━━━━━━━━━━━━\u001b[0m \u001b[32m401.2/401.2 kB\u001b[0m \u001b[31m44.5 MB/s\u001b[0m eta \u001b[36m0:00:00\u001b[0m\n",
            "\u001b[2K     \u001b[90m━━━━━━━━━━━━━━━━━━━━━━━━━━━━━━━━━━━━━━━━\u001b[0m \u001b[32m7.0/7.0 MB\u001b[0m \u001b[31m98.7 MB/s\u001b[0m eta \u001b[36m0:00:00\u001b[0m\n",
            "\u001b[2K     \u001b[90m━━━━━━━━━━━━━━━━━━━━━━━━━━━━━━━━━━━━━━━━\u001b[0m \u001b[32m6.9/6.9 MB\u001b[0m \u001b[31m101.4 MB/s\u001b[0m eta \u001b[36m0:00:00\u001b[0m\n",
            "\u001b[2K     \u001b[90m━━━━━━━━━━━━━━━━━━━━━━━━━━━━━━━━━━━━━━━━\u001b[0m \u001b[32m6.9/6.9 MB\u001b[0m \u001b[31m106.0 MB/s\u001b[0m eta \u001b[36m0:00:00\u001b[0m\n",
            "\u001b[2K     \u001b[90m━━━━━━━━━━━━━━━━━━━━━━━━━━━━━━━━━━━━━━━━\u001b[0m \u001b[32m6.9/6.9 MB\u001b[0m \u001b[31m104.8 MB/s\u001b[0m eta \u001b[36m0:00:00\u001b[0m\n",
            "\u001b[2K     \u001b[90m━━━━━━━━━━━━━━━━━━━━━━━━━━━━━━━━━━━━━━━━\u001b[0m \u001b[32m6.8/6.8 MB\u001b[0m \u001b[31m100.2 MB/s\u001b[0m eta \u001b[36m0:00:00\u001b[0m\n",
            "\u001b[2K     \u001b[90m━━━━━━━━━━━━━━━━━━━━━━━━━━━━━━━━━━━━━━━━\u001b[0m \u001b[32m6.8/6.8 MB\u001b[0m \u001b[31m104.5 MB/s\u001b[0m eta \u001b[36m0:00:00\u001b[0m\n",
            "\u001b[2K     \u001b[90m━━━━━━━━━━━━━━━━━━━━━━━━━━━━━━━━━━━━━━━━\u001b[0m \u001b[32m6.9/6.9 MB\u001b[0m \u001b[31m104.2 MB/s\u001b[0m eta \u001b[36m0:00:00\u001b[0m\n",
            "\u001b[2K     \u001b[90m━━━━━━━━━━━━━━━━━━━━━━━━━━━━━━━━━━━━━━━━\u001b[0m \u001b[32m6.0/6.0 MB\u001b[0m \u001b[31m107.3 MB/s\u001b[0m eta \u001b[36m0:00:00\u001b[0m\n",
            "\u001b[2K     \u001b[90m━━━━━━━━━━━━━━━━━━━━━━━━━━━━━━━━━━━━━━━━\u001b[0m \u001b[32m6.0/6.0 MB\u001b[0m \u001b[31m114.8 MB/s\u001b[0m eta \u001b[36m0:00:00\u001b[0m\n",
            "\u001b[2K     \u001b[90m━━━━━━━━━━━━━━━━━━━━━━━━━━━━━━━━━━━━━━━━\u001b[0m \u001b[32m24.2/24.2 MB\u001b[0m \u001b[31m66.3 MB/s\u001b[0m eta \u001b[36m0:00:00\u001b[0m\n",
            "\u001b[?25h  Building wheel for rouge-score (setup.py) ... \u001b[?25l\u001b[?25hdone\n",
            "  Building wheel for seqeval (setup.py) ... \u001b[?25l\u001b[?25hdone\n",
            "\u001b[31mERROR: pip's dependency resolver does not currently take into account all the packages that are installed. This behaviour is the source of the following dependency conflicts.\n",
            "torchaudio 2.2.1+cu121 requires torch==2.2.1, but you have torch 1.13.1 which is incompatible.\n",
            "torchdata 0.7.1 requires torch>=2, but you have torch 1.13.1 which is incompatible.\n",
            "torchtext 0.17.1 requires torch==2.2.1, but you have torch 1.13.1 which is incompatible.\u001b[0m\u001b[31m\n",
            "\u001b[0m"
          ]
        }
      ]
    },
    {
      "cell_type": "markdown",
      "source": [
        "## 2. Load Data from Huggingface"
      ],
      "metadata": {
        "id": "g-9b8hauM56n"
      }
    },
    {
      "cell_type": "code",
      "source": [
        "from datasets import load_dataset\n",
        "\n",
        "# Load the dataset from Hugging Face\n",
        "dataset = load_dataset('ccdv/pubmed-summarization')\n",
        "\n",
        "# Dataframe for Dataset\n",
        "train_data = dataset[\"train\"].shuffle(seed=42).select(range(1000))\n",
        "test_data = dataset[\"test\"].shuffle(seed=42).select(range(125))\n",
        "val_data = dataset[\"validation\"].shuffle(seed=42).select(range(125))"
      ],
      "metadata": {
        "colab": {
          "base_uri": "https://localhost:8080/"
        },
        "id": "_w_V7ZPxywOf",
        "outputId": "656c1823-07f8-41bf-b61b-e21332524161"
      },
      "execution_count": 77,
      "outputs": [
        {
          "output_type": "stream",
          "name": "stderr",
          "text": [
            "/usr/local/lib/python3.10/dist-packages/datasets/load.py:1486: FutureWarning: The repository for ccdv/pubmed-summarization contains custom code which must be executed to correctly load the dataset. You can inspect the repository content at https://hf.co/datasets/ccdv/pubmed-summarization\n",
            "You can avoid this message in future by passing the argument `trust_remote_code=True`.\n",
            "Passing `trust_remote_code=True` will be mandatory to load this dataset from the next major release of `datasets`.\n",
            "  warnings.warn(\n"
          ]
        }
      ]
    },
    {
      "cell_type": "code",
      "source": [
        "test_data"
      ],
      "metadata": {
        "colab": {
          "base_uri": "https://localhost:8080/"
        },
        "id": "Fc1mBv4IpLUk",
        "outputId": "a358121e-5984-473e-cabf-3cba49818f8f"
      },
      "execution_count": 35,
      "outputs": [
        {
          "output_type": "execute_result",
          "data": {
            "text/plain": [
              "Dataset({\n",
              "    features: ['article', 'abstract'],\n",
              "    num_rows: 125\n",
              "})"
            ]
          },
          "metadata": {},
          "execution_count": 35
        }
      ]
    },
    {
      "cell_type": "markdown",
      "source": [
        "## 3. Preprocessing"
      ],
      "metadata": {
        "id": "epWS8THvNK7-"
      }
    },
    {
      "cell_type": "code",
      "source": [
        "# Define dataset class\n",
        "class SummarizationDataset(Dataset):\n",
        "    def __init__(self, data, tokenizer, max_input_length=512, max_output_length=128):\n",
        "        self.data = data\n",
        "        self.tokenizer = tokenizer\n",
        "        self.max_input_length = max_input_length\n",
        "        self.max_output_length = max_output_length\n",
        "\n",
        "    def __len__(self):\n",
        "        return len(self.data)\n",
        "\n",
        "    def __getitem__(self, index):\n",
        "        article = self.data[index][\"article\"]\n",
        "        abstract = self.data[index][\"abstract\"]\n",
        "        input_ids = self.tokenizer.encode(article, max_length=self.max_input_length, truncation=True, padding=\"max_length\")\n",
        "        output_ids = self.tokenizer.encode(abstract, max_length=self.max_output_length, truncation=True, padding=\"max_length\")\n",
        "        return {\"input_ids\": input_ids, \"attention_mask\": [int(token_id != 0) for token_id in input_ids], \"decoder_input_ids\": output_ids[:-1], \"decoder_attention_mask\": [1] * (len(output_ids) - 1), \"labels\": output_ids[1:]}"
      ],
      "metadata": {
        "id": "dgNcucibymPb"
      },
      "execution_count": 78,
      "outputs": []
    },
    {
      "cell_type": "code",
      "source": [
        "# Load the pegasus tokenizer and model\n",
        "tokenizer = PegasusTokenizer.from_pretrained(\"google/pegasus-large\")\n",
        "model = PegasusForConditionalGeneration.from_pretrained(\"google/pegasus-large\")"
      ],
      "metadata": {
        "colab": {
          "base_uri": "https://localhost:8080/"
        },
        "id": "teNvW1_5y2Vo",
        "outputId": "2a107251-3bce-4c9e-9177-f06ef3e414fb"
      },
      "execution_count": 79,
      "outputs": [
        {
          "output_type": "stream",
          "name": "stderr",
          "text": [
            "Some weights of PegasusForConditionalGeneration were not initialized from the model checkpoint at google/pegasus-large and are newly initialized: ['model.decoder.embed_positions.weight', 'model.encoder.embed_positions.weight']\n",
            "You should probably TRAIN this model on a down-stream task to be able to use it for predictions and inference.\n"
          ]
        }
      ]
    },
    {
      "cell_type": "code",
      "source": [
        "# Data processing, use SummarizationDataset to process the data set and convert the data into the format required by the model\n",
        "train_dataset = SummarizationDataset(train_data, tokenizer)\n",
        "val_dataset = SummarizationDataset(val_data, tokenizer)"
      ],
      "metadata": {
        "id": "E3cmIZLCy4-Z"
      },
      "execution_count": 80,
      "outputs": []
    },
    {
      "cell_type": "code",
      "source": [
        "# Ensure that all samples in each batch have the same shape so that they can be input into the model for training at once\n",
        "def collate_fn(batch):\n",
        "    input_ids = [item[\"input_ids\"] for item in batch]\n",
        "    attention_mask = [item[\"attention_mask\"] for item in batch]\n",
        "    decoder_input_ids = [item[\"decoder_input_ids\"] for item in batch]\n",
        "    decoder_attention_mask = [item[\"decoder_attention_mask\"] for item in batch]\n",
        "    labels = [item[\"labels\"] for item in batch]\n",
        "    max_input_length = max(len(ids) for ids in input_ids)\n",
        "    max_output_length = max(len(ids) for ids in decoder_input_ids)\n",
        "    input_ids = [ids + [0] * (max_input_length - len(ids)) for ids in input_ids]\n",
        "    attention_mask = [mask + [0] * (max_input_length - len(mask)) for mask in attention_mask]\n",
        "    decoder_input_ids = [ids + [0] * (max_output_length - len(ids)) for ids in decoder_input_ids]\n",
        "    decoder_attention_mask = [mask + [0] * (max_output_length - len(mask)) for mask in decoder_attention_mask]\n",
        "    labels = [ids + [-100] * (max_output_length - len(ids)) for ids in labels]\n",
        "    return {\"input_ids\": torch.tensor(input_ids), \"attention_mask\": torch.tensor(attention_mask), \"decoder_input_ids\": torch.tensor(decoder_input_ids), \"decoder_attention_mask\": torch.tensor(decoder_attention_mask), \"labels\": torch.tensor(labels)}"
      ],
      "metadata": {
        "id": "HpySHokAy5_v"
      },
      "execution_count": 81,
      "outputs": []
    },
    {
      "cell_type": "code",
      "source": [
        "# Convert the processed training set and validation set into an iterable data loader\n",
        "train_loader = DataLoader(train_dataset, batch_size=2, shuffle=True, collate_fn=collate_fn)\n",
        "val_loader = DataLoader(val_dataset, batch_size=2,collate_fn=collate_fn)"
      ],
      "metadata": {
        "id": "uH8GZ0-VzAqg"
      },
      "execution_count": 82,
      "outputs": []
    },
    {
      "cell_type": "markdown",
      "source": [
        "## 4. Fine Tuning the Model"
      ],
      "metadata": {
        "id": "CNH9mc1PHk74"
      }
    },
    {
      "cell_type": "code",
      "source": [
        "# Initialize the optimizer and learning rate scheduler\n",
        "optimizer = AdamW(model.parameters(), lr=5e-5)\n",
        "scheduler = get_linear_schedule_with_warmup(optimizer, num_warmup_steps=500, num_training_steps=10000)"
      ],
      "metadata": {
        "colab": {
          "base_uri": "https://localhost:8080/"
        },
        "id": "K7CKtS4jzIN6",
        "outputId": "4c3ca074-c550-488d-be78-42229a88078a"
      },
      "execution_count": 83,
      "outputs": [
        {
          "output_type": "stream",
          "name": "stderr",
          "text": [
            "/usr/local/lib/python3.10/dist-packages/transformers/optimization.py:521: FutureWarning: This implementation of AdamW is deprecated and will be removed in a future version. Use the PyTorch implementation torch.optim.AdamW instead, or set `no_deprecation_warning=True` to disable this warning\n",
            "  warnings.warn(\n"
          ]
        }
      ]
    },
    {
      "cell_type": "code",
      "source": [
        "# Fine tuning the model\n",
        "from tqdm import tqdm\n",
        "\n",
        "device = torch.device(\"cuda\" if torch.cuda.is_available() else \"cpu\")\n",
        "model.to(device)\n",
        "model.train()\n",
        "for epoch in range(10):\n",
        "    train_loss = 0\n",
        "    for step,batch in tqdm(enumerate(train_loader)):\n",
        "        batch = {k: v.to(device) for k, v in batch.items()}\n",
        "        loss = model(**batch).loss\n",
        "        loss.backward()\n",
        "        optimizer.step()\n",
        "        scheduler.step()\n",
        "        optimizer.zero_grad()\n",
        "        if step%100==0 and step>0:\n",
        "            print(\"Step-{},Train Loss-{}\".format(step,loss.item()))\n",
        "            break\n",
        "        train_loss += loss.item()\n",
        "    train_loss /= len(train_loader)\n",
        "    val_loss = 0\n",
        "    model.eval()\n",
        "    with torch.no_grad():\n",
        "        for step,batch in tqdm(enumerate(val_loader)):\n",
        "            batch = {k: v.to(device) for k, v in batch.items()}\n",
        "            loss = model(**batch).loss\n",
        "            val_loss += loss.item()\n",
        "            if step%100==0 and step>0:\n",
        "                print(\"Step-{},Val Loss-{}\".format(step,loss.item()))\n",
        "                break\n",
        "        val_loss /= len(val_loader)\n",
        "    model.train()\n",
        "    break\n",
        "    print(f\"Epoch {epoch+1} train loss: {train_loss:.4f} val loss: {val_loss:.4f}\")"
      ],
      "metadata": {
        "colab": {
          "base_uri": "https://localhost:8080/"
        },
        "id": "yDgOk5X8zSBt",
        "outputId": "81bde32b-6e80-4c96-aebf-fd868c428a0d"
      },
      "execution_count": 84,
      "outputs": [
        {
          "output_type": "stream",
          "name": "stderr",
          "text": [
            "100it [00:46,  2.14it/s]\n"
          ]
        },
        {
          "output_type": "stream",
          "name": "stdout",
          "text": [
            "Step-100,Train Loss-8.063518524169922\n"
          ]
        },
        {
          "output_type": "stream",
          "name": "stderr",
          "text": [
            "63it [00:09,  6.80it/s]\n"
          ]
        }
      ]
    },
    {
      "cell_type": "code",
      "source": [
        "# Save the fine tuned model\n",
        "model.save_pretrained(\"fine_tuned_pegasus\")\n",
        "tokenizer.save_pretrained(\"fine_tuned_pegasus\")"
      ],
      "metadata": {
        "colab": {
          "base_uri": "https://localhost:8080/"
        },
        "id": "6ChkONWXzS8N",
        "outputId": "9690d928-e731-43cb-c3d6-916bd6ff3881"
      },
      "execution_count": 85,
      "outputs": [
        {
          "output_type": "stream",
          "name": "stderr",
          "text": [
            "Some non-default generation parameters are set in the model config. These should go into a GenerationConfig file (https://huggingface.co/docs/transformers/generation_strategies#save-a-custom-decoding-strategy-with-your-model) instead. This warning will be raised to an exception in v4.41.\n",
            "Non-default generation parameters: {'max_length': 256, 'num_beams': 8, 'length_penalty': 0.8, 'forced_eos_token_id': 1}\n"
          ]
        },
        {
          "output_type": "execute_result",
          "data": {
            "text/plain": [
              "('fine_tuned_pegasus/tokenizer_config.json',\n",
              " 'fine_tuned_pegasus/special_tokens_map.json',\n",
              " 'fine_tuned_pegasus/spiece.model',\n",
              " 'fine_tuned_pegasus/added_tokens.json')"
            ]
          },
          "metadata": {},
          "execution_count": 85
        }
      ]
    },
    {
      "cell_type": "markdown",
      "source": [
        "## 5. Use Fine Tuned Model to Summarize"
      ],
      "metadata": {
        "id": "o1euqvsMHt6V"
      }
    },
    {
      "cell_type": "code",
      "source": [
        "# Load the fine tuned model and tokenizer\n",
        "model = PegasusForConditionalGeneration.from_pretrained(\"fine_tuned_pegasus\")\n",
        "tokenizer = PegasusTokenizer.from_pretrained(\"fine_tuned_pegasus\")"
      ],
      "metadata": {
        "id": "c09iYI3nzXC2"
      },
      "execution_count": 86,
      "outputs": []
    },
    {
      "cell_type": "code",
      "source": [
        "# Define test dataset\n",
        "test_dataset = SummarizationDataset(test_data, tokenizer)"
      ],
      "metadata": {
        "id": "g0V2F7wkzZTl"
      },
      "execution_count": 87,
      "outputs": []
    },
    {
      "cell_type": "code",
      "source": [
        "# Define test dataloader\n",
        "test_loader = DataLoader(test_dataset, batch_size=1,collate_fn=collate_fn)"
      ],
      "metadata": {
        "id": "iR2aN1jRzfOi"
      },
      "execution_count": 88,
      "outputs": []
    },
    {
      "cell_type": "code",
      "source": [
        "# Summarization\n",
        "model.to(device)\n",
        "model.eval()\n",
        "predictions = []\n",
        "with torch.no_grad():\n",
        "    for step, batch in tqdm(enumerate(test_loader)):\n",
        "        batch = {k: v.to(device) for k, v in batch.items()}\n",
        "        output_ids = model.generate(input_ids=batch[\"input_ids\"], attention_mask=batch[\"attention_mask\"], max_length=128, decoder_start_token_id=tokenizer.pad_token_id)\n",
        "        batch_predictions = [tokenizer.decode(ids, skip_special_tokens=True) for ids in output_ids]\n",
        "        predictions.extend(batch_predictions)\n",
        "        if step==124:\n",
        "            break"
      ],
      "metadata": {
        "colab": {
          "base_uri": "https://localhost:8080/"
        },
        "id": "ulRz9L6-zhi_",
        "outputId": "41973e09-0dc1-40e4-cae2-c8a3cc40d230"
      },
      "execution_count": 89,
      "outputs": [
        {
          "output_type": "stream",
          "name": "stderr",
          "text": [
            "124it [06:28,  3.13s/it]\n"
          ]
        }
      ]
    },
    {
      "cell_type": "code",
      "source": [
        "test_data = test_data.to_pandas()\n",
        "\n",
        "test_data[\"predictions\"] = predictions\n",
        "\n",
        "test_data.to_excel('results.xlsx', index = False)"
      ],
      "metadata": {
        "id": "_dNpntz5zkHa"
      },
      "execution_count": 90,
      "outputs": []
    },
    {
      "cell_type": "code",
      "source": [
        "test_data.head()"
      ],
      "metadata": {
        "colab": {
          "base_uri": "https://localhost:8080/",
          "height": 206
        },
        "id": "3TJZ2TfYAyJw",
        "outputId": "af9fb79c-77b5-4806-fb2f-7ac9cec63d40"
      },
      "execution_count": 91,
      "outputs": [
        {
          "output_type": "execute_result",
          "data": {
            "text/plain": [
              "                                             article  \\\n",
              "0  the birth of a premature infant has long been ...   \n",
              "1  de ridder , vanneste , and focquaert address c...   \n",
              "2  it is not easy to define a  good  health care ...   \n",
              "3  the prosite database uses two kinds of signatu...   \n",
              "4  although about two - thirds of patients with e...   \n",
              "\n",
              "                                            abstract  \\\n",
              "0  background : the purpose of this study was to ...   \n",
              "1  our ( 2014 ) model for the regulation of cogni...   \n",
              "2  aim : to date , the available information rega...   \n",
              "3  the prosite database consists of a large colle...   \n",
              "4  brivaracetam ( brv ) , a high - affinity synap...   \n",
              "\n",
              "                                         predictions  \n",
              "0  the premature birth of an infant and the follo...  \n",
              "1  they raise a number of problems with the treat...  \n",
              "2  perceived quality is one of the principal dete...  \n",
              "3  hence the selection procedure consists of runn...  \n",
              "4  although about two - thirds of patients with e...  "
            ],
            "text/html": [
              "\n",
              "  <div id=\"df-9aebdcba-d99e-4dbb-bee5-c114e2c75fa7\" class=\"colab-df-container\">\n",
              "    <div>\n",
              "<style scoped>\n",
              "    .dataframe tbody tr th:only-of-type {\n",
              "        vertical-align: middle;\n",
              "    }\n",
              "\n",
              "    .dataframe tbody tr th {\n",
              "        vertical-align: top;\n",
              "    }\n",
              "\n",
              "    .dataframe thead th {\n",
              "        text-align: right;\n",
              "    }\n",
              "</style>\n",
              "<table border=\"1\" class=\"dataframe\">\n",
              "  <thead>\n",
              "    <tr style=\"text-align: right;\">\n",
              "      <th></th>\n",
              "      <th>article</th>\n",
              "      <th>abstract</th>\n",
              "      <th>predictions</th>\n",
              "    </tr>\n",
              "  </thead>\n",
              "  <tbody>\n",
              "    <tr>\n",
              "      <th>0</th>\n",
              "      <td>the birth of a premature infant has long been ...</td>\n",
              "      <td>background : the purpose of this study was to ...</td>\n",
              "      <td>the premature birth of an infant and the follo...</td>\n",
              "    </tr>\n",
              "    <tr>\n",
              "      <th>1</th>\n",
              "      <td>de ridder , vanneste , and focquaert address c...</td>\n",
              "      <td>our ( 2014 ) model for the regulation of cogni...</td>\n",
              "      <td>they raise a number of problems with the treat...</td>\n",
              "    </tr>\n",
              "    <tr>\n",
              "      <th>2</th>\n",
              "      <td>it is not easy to define a  good  health care ...</td>\n",
              "      <td>aim : to date , the available information rega...</td>\n",
              "      <td>perceived quality is one of the principal dete...</td>\n",
              "    </tr>\n",
              "    <tr>\n",
              "      <th>3</th>\n",
              "      <td>the prosite database uses two kinds of signatu...</td>\n",
              "      <td>the prosite database consists of a large colle...</td>\n",
              "      <td>hence the selection procedure consists of runn...</td>\n",
              "    </tr>\n",
              "    <tr>\n",
              "      <th>4</th>\n",
              "      <td>although about two - thirds of patients with e...</td>\n",
              "      <td>brivaracetam ( brv ) , a high - affinity synap...</td>\n",
              "      <td>although about two - thirds of patients with e...</td>\n",
              "    </tr>\n",
              "  </tbody>\n",
              "</table>\n",
              "</div>\n",
              "    <div class=\"colab-df-buttons\">\n",
              "\n",
              "  <div class=\"colab-df-container\">\n",
              "    <button class=\"colab-df-convert\" onclick=\"convertToInteractive('df-9aebdcba-d99e-4dbb-bee5-c114e2c75fa7')\"\n",
              "            title=\"Convert this dataframe to an interactive table.\"\n",
              "            style=\"display:none;\">\n",
              "\n",
              "  <svg xmlns=\"http://www.w3.org/2000/svg\" height=\"24px\" viewBox=\"0 -960 960 960\">\n",
              "    <path d=\"M120-120v-720h720v720H120Zm60-500h600v-160H180v160Zm220 220h160v-160H400v160Zm0 220h160v-160H400v160ZM180-400h160v-160H180v160Zm440 0h160v-160H620v160ZM180-180h160v-160H180v160Zm440 0h160v-160H620v160Z\"/>\n",
              "  </svg>\n",
              "    </button>\n",
              "\n",
              "  <style>\n",
              "    .colab-df-container {\n",
              "      display:flex;\n",
              "      gap: 12px;\n",
              "    }\n",
              "\n",
              "    .colab-df-convert {\n",
              "      background-color: #E8F0FE;\n",
              "      border: none;\n",
              "      border-radius: 50%;\n",
              "      cursor: pointer;\n",
              "      display: none;\n",
              "      fill: #1967D2;\n",
              "      height: 32px;\n",
              "      padding: 0 0 0 0;\n",
              "      width: 32px;\n",
              "    }\n",
              "\n",
              "    .colab-df-convert:hover {\n",
              "      background-color: #E2EBFA;\n",
              "      box-shadow: 0px 1px 2px rgba(60, 64, 67, 0.3), 0px 1px 3px 1px rgba(60, 64, 67, 0.15);\n",
              "      fill: #174EA6;\n",
              "    }\n",
              "\n",
              "    .colab-df-buttons div {\n",
              "      margin-bottom: 4px;\n",
              "    }\n",
              "\n",
              "    [theme=dark] .colab-df-convert {\n",
              "      background-color: #3B4455;\n",
              "      fill: #D2E3FC;\n",
              "    }\n",
              "\n",
              "    [theme=dark] .colab-df-convert:hover {\n",
              "      background-color: #434B5C;\n",
              "      box-shadow: 0px 1px 3px 1px rgba(0, 0, 0, 0.15);\n",
              "      filter: drop-shadow(0px 1px 2px rgba(0, 0, 0, 0.3));\n",
              "      fill: #FFFFFF;\n",
              "    }\n",
              "  </style>\n",
              "\n",
              "    <script>\n",
              "      const buttonEl =\n",
              "        document.querySelector('#df-9aebdcba-d99e-4dbb-bee5-c114e2c75fa7 button.colab-df-convert');\n",
              "      buttonEl.style.display =\n",
              "        google.colab.kernel.accessAllowed ? 'block' : 'none';\n",
              "\n",
              "      async function convertToInteractive(key) {\n",
              "        const element = document.querySelector('#df-9aebdcba-d99e-4dbb-bee5-c114e2c75fa7');\n",
              "        const dataTable =\n",
              "          await google.colab.kernel.invokeFunction('convertToInteractive',\n",
              "                                                    [key], {});\n",
              "        if (!dataTable) return;\n",
              "\n",
              "        const docLinkHtml = 'Like what you see? Visit the ' +\n",
              "          '<a target=\"_blank\" href=https://colab.research.google.com/notebooks/data_table.ipynb>data table notebook</a>'\n",
              "          + ' to learn more about interactive tables.';\n",
              "        element.innerHTML = '';\n",
              "        dataTable['output_type'] = 'display_data';\n",
              "        await google.colab.output.renderOutput(dataTable, element);\n",
              "        const docLink = document.createElement('div');\n",
              "        docLink.innerHTML = docLinkHtml;\n",
              "        element.appendChild(docLink);\n",
              "      }\n",
              "    </script>\n",
              "  </div>\n",
              "\n",
              "\n",
              "<div id=\"df-942e8a05-2ce3-4a12-b356-13de18d90ea9\">\n",
              "  <button class=\"colab-df-quickchart\" onclick=\"quickchart('df-942e8a05-2ce3-4a12-b356-13de18d90ea9')\"\n",
              "            title=\"Suggest charts\"\n",
              "            style=\"display:none;\">\n",
              "\n",
              "<svg xmlns=\"http://www.w3.org/2000/svg\" height=\"24px\"viewBox=\"0 0 24 24\"\n",
              "     width=\"24px\">\n",
              "    <g>\n",
              "        <path d=\"M19 3H5c-1.1 0-2 .9-2 2v14c0 1.1.9 2 2 2h14c1.1 0 2-.9 2-2V5c0-1.1-.9-2-2-2zM9 17H7v-7h2v7zm4 0h-2V7h2v10zm4 0h-2v-4h2v4z\"/>\n",
              "    </g>\n",
              "</svg>\n",
              "  </button>\n",
              "\n",
              "<style>\n",
              "  .colab-df-quickchart {\n",
              "      --bg-color: #E8F0FE;\n",
              "      --fill-color: #1967D2;\n",
              "      --hover-bg-color: #E2EBFA;\n",
              "      --hover-fill-color: #174EA6;\n",
              "      --disabled-fill-color: #AAA;\n",
              "      --disabled-bg-color: #DDD;\n",
              "  }\n",
              "\n",
              "  [theme=dark] .colab-df-quickchart {\n",
              "      --bg-color: #3B4455;\n",
              "      --fill-color: #D2E3FC;\n",
              "      --hover-bg-color: #434B5C;\n",
              "      --hover-fill-color: #FFFFFF;\n",
              "      --disabled-bg-color: #3B4455;\n",
              "      --disabled-fill-color: #666;\n",
              "  }\n",
              "\n",
              "  .colab-df-quickchart {\n",
              "    background-color: var(--bg-color);\n",
              "    border: none;\n",
              "    border-radius: 50%;\n",
              "    cursor: pointer;\n",
              "    display: none;\n",
              "    fill: var(--fill-color);\n",
              "    height: 32px;\n",
              "    padding: 0;\n",
              "    width: 32px;\n",
              "  }\n",
              "\n",
              "  .colab-df-quickchart:hover {\n",
              "    background-color: var(--hover-bg-color);\n",
              "    box-shadow: 0 1px 2px rgba(60, 64, 67, 0.3), 0 1px 3px 1px rgba(60, 64, 67, 0.15);\n",
              "    fill: var(--button-hover-fill-color);\n",
              "  }\n",
              "\n",
              "  .colab-df-quickchart-complete:disabled,\n",
              "  .colab-df-quickchart-complete:disabled:hover {\n",
              "    background-color: var(--disabled-bg-color);\n",
              "    fill: var(--disabled-fill-color);\n",
              "    box-shadow: none;\n",
              "  }\n",
              "\n",
              "  .colab-df-spinner {\n",
              "    border: 2px solid var(--fill-color);\n",
              "    border-color: transparent;\n",
              "    border-bottom-color: var(--fill-color);\n",
              "    animation:\n",
              "      spin 1s steps(1) infinite;\n",
              "  }\n",
              "\n",
              "  @keyframes spin {\n",
              "    0% {\n",
              "      border-color: transparent;\n",
              "      border-bottom-color: var(--fill-color);\n",
              "      border-left-color: var(--fill-color);\n",
              "    }\n",
              "    20% {\n",
              "      border-color: transparent;\n",
              "      border-left-color: var(--fill-color);\n",
              "      border-top-color: var(--fill-color);\n",
              "    }\n",
              "    30% {\n",
              "      border-color: transparent;\n",
              "      border-left-color: var(--fill-color);\n",
              "      border-top-color: var(--fill-color);\n",
              "      border-right-color: var(--fill-color);\n",
              "    }\n",
              "    40% {\n",
              "      border-color: transparent;\n",
              "      border-right-color: var(--fill-color);\n",
              "      border-top-color: var(--fill-color);\n",
              "    }\n",
              "    60% {\n",
              "      border-color: transparent;\n",
              "      border-right-color: var(--fill-color);\n",
              "    }\n",
              "    80% {\n",
              "      border-color: transparent;\n",
              "      border-right-color: var(--fill-color);\n",
              "      border-bottom-color: var(--fill-color);\n",
              "    }\n",
              "    90% {\n",
              "      border-color: transparent;\n",
              "      border-bottom-color: var(--fill-color);\n",
              "    }\n",
              "  }\n",
              "</style>\n",
              "\n",
              "  <script>\n",
              "    async function quickchart(key) {\n",
              "      const quickchartButtonEl =\n",
              "        document.querySelector('#' + key + ' button');\n",
              "      quickchartButtonEl.disabled = true;  // To prevent multiple clicks.\n",
              "      quickchartButtonEl.classList.add('colab-df-spinner');\n",
              "      try {\n",
              "        const charts = await google.colab.kernel.invokeFunction(\n",
              "            'suggestCharts', [key], {});\n",
              "      } catch (error) {\n",
              "        console.error('Error during call to suggestCharts:', error);\n",
              "      }\n",
              "      quickchartButtonEl.classList.remove('colab-df-spinner');\n",
              "      quickchartButtonEl.classList.add('colab-df-quickchart-complete');\n",
              "    }\n",
              "    (() => {\n",
              "      let quickchartButtonEl =\n",
              "        document.querySelector('#df-942e8a05-2ce3-4a12-b356-13de18d90ea9 button');\n",
              "      quickchartButtonEl.style.display =\n",
              "        google.colab.kernel.accessAllowed ? 'block' : 'none';\n",
              "    })();\n",
              "  </script>\n",
              "</div>\n",
              "    </div>\n",
              "  </div>\n"
            ],
            "application/vnd.google.colaboratory.intrinsic+json": {
              "type": "dataframe",
              "variable_name": "test_data",
              "summary": "{\n  \"name\": \"test_data\",\n  \"rows\": 125,\n  \"fields\": [\n    {\n      \"column\": \"article\",\n      \"properties\": {\n        \"dtype\": \"string\",\n        \"num_unique_values\": 125,\n        \"samples\": [\n          \"papillon - lefevre syndrome belongs to a heterogeneous group of skin diseases that are characterized by hyperkeratosis of palms and soles . \\n papillon - lefevre syndrome is inherited as an autosomal recessive disorder characterized by palmoplantar hyperkeratosis and early loss of primary and permanent teeth . \\n papillon - lefevre syndrome differs from other types of palmoplantar keratoderma in its severe periodontopathy and premature loss of primary and permanent dentition . \\n papillon - lefevre syndrome was first described in 1924 by papillon m m and lefevre p in two siblings . \\n fifty percent of the patients with papillon - lefevre syndrome appear to have been derived from consanguineous marriages . \\n hart et al . , showed that mutations of cathepsin c gene are responsible for papillon - lefevre syndrome and a region of chromosomes ( 11q14 - 21 ) is responsible for this . \\n an 18-year - old boy reported to the department of periodontology and implant dentistry , bharati vidyapeeth university dental college and hospital , navi - mumbai for the treatment of generalized mobility of teeth and bleeding gums . \\n scaly skin lesions began to appear by third year of age , later fissures appeared on palms and soles . \\n intense itching was noted and skin lesions went on to involve fingers , knees and elbows . \\n patient showed bilateral hyperkeratosis of palms , soles , dorsal surface of fingers and knees [ figures 1 and 2 ] . \\n intraoral examination showed that the patient had lost most of his permanent teeth and the remaining teeth showed grade ii mobility . \\n hyperkeratosis of palms and soles - case 1 hyperkeratosis of knees - case 1 intra - oral view - maxilla - case 1 intra - oral view - mandible - case 1 this patient too showed considerable hyperkeratosis of palms and soles [ figure 6 ] . \\n orthopantomograph showed moderate horizontal bone loss and erupting permanent tooth buds [ figures 79 ] . \\n hyperkeratosis of palms and soles - case 2 intra - oral view - maxilla - case 2 intra - oral view - mandible - case 2 complete blood count , serum calcium and alkaline phosphatase levels were done for both patients and were found to be within normal limits . on the basis of history , \\n thorough scaling and root planing of all teeth was carried out along with administration of systemic antibiotics . \\n patient showed bilateral hyperkeratosis of palms , soles , dorsal surface of fingers and knees [ figures 1 and 2 ] . \\n intraoral examination showed that the patient had lost most of his permanent teeth and the remaining teeth showed grade ii mobility . \\n hyperkeratosis of palms and soles - case 1 hyperkeratosis of knees - case 1 intra - oral view - maxilla - case 1 intra - oral view - mandible - case 1 this patient too showed considerable hyperkeratosis of palms and soles [ figure 6 ] . \\n orthopantomograph showed moderate horizontal bone loss and erupting permanent tooth buds [ figures 79 ] . \\n hyperkeratosis of palms and soles - case 2 intra - oral view - maxilla - case 2 intra - oral view - mandible - case 2 complete blood count , serum calcium and alkaline phosphatase levels were done for both patients and were found to be within normal limits . on the basis of history , \\n patient showed bilateral hyperkeratosis of palms , soles , dorsal surface of fingers and knees [ figures 1 and 2 ] . \\n intraoral examination showed that the patient had lost most of his permanent teeth and the remaining teeth showed grade ii mobility . \\n hyperkeratosis of palms and soles - case 1 hyperkeratosis of knees - case 1 intra - oral view - maxilla - case 1 intra - oral view - mandible - case 1 \\n orthopantomograph showed moderate horizontal bone loss and erupting permanent tooth buds [ figures 79 ] . \\n hyperkeratosis of palms and soles - case 2 intra - oral view - maxilla - case 2 intra - oral view - mandible - case 2 complete blood count , serum calcium and alkaline phosphatase levels were done for both patients and were found to be within normal limits . on the basis of history , \\n thorough scaling and root planing of all teeth was carried out along with administration of systemic antibiotics . \\n papillon - lefevre syndrome is an autosomal recessive disorder characterized by palmoplantar hyperkeratosis and aggressive periodontitis . \\n skin lesions develop concurrently with oral lesions and may extend to dorsal surfaces of hands and feet . \\n another form of disease associated with palmoplantar keratosis and severe aggressive periodontitis has been named haim - munk syndrome . \\n it differs from papillon - lefevre syndrome in symptoms such as arachnodactyly , acroosterolysis and onychogryphosis . in papillon - lefevre syndrome \\n the permanent dentition starts to erupt at proper time , but around 8 - 9 years of age periodontal destruction is repeated in the same manner as in primary dentition . \\n all permanent teeth are usually lost before 14 - 16 years of age . in subjects with papillon - lefevre syndrome \\n the exact biochemical defect leading to periodontal disease is still unclear . in 1942 , wannenmacher suggested that papillon - lefevre syndrome was due to a combination of ecto and mesodermal malformations . \\n suggested that a functional imbalance of collagenolytic activity in the periodontal ligament was responsible for periodontitis in papillon - lefevre syndrome . in 1984 , vandyke suggested that neutrophils from an individual with papillon - lefevre syndrome exhibit decreased receptor affinity for chemotaxins such as formyl peptides . \\n papillon - lefevre syndrome is associated with myeloperoxide deficiency , low integrin expression , defective phagocytosis and chemotaxis . \\n hattab et al . , reported four cases of papillon - lefevre syndrome affecting two jordanian families with eight children . in all patients there was a relationship between increased severity of skin lesions and seasonal variations and intensified periodontal destruction . \\n lass et al . in three multiplex families , one ethiopian and two german , demonstrated linkage of papillon - lefevre syndrome with chromosome 11q13-q14 . \\n fischer et al . , conducted a primary genome wide search by homozygosity mapping in a large consanguineous family with four affected siblings . \\n toomes et al . , showed that in patients with papillon - lefevre syndrome gene for cathepsin c which lies in chromosome 11 had undergone mutation resulting in decreased cathepsin c production . \\n hart et al . , reported mutations in cathepsin c gene in patients with papillon - lefevre syndrome from five different countries . in conclusion , we have reported two cases of papillon - lefevre syndrome . \\n further studies in the field of microbiology and genetics are necessary to find the exact cause of periodontal destruction in such patients , so that best possible dental treatment can be rendered to them . \\n in subjects with papillon - lefevre syndrome there is defective cathepsin c production . the gene for cathepsin c lies on chromosome 11 . \\n the exact biochemical defect leading to periodontal disease is still unclear . in 1942 , wannenmacher suggested that papillon - lefevre syndrome was due to a combination of ecto and mesodermal malformations . \\n suggested that a functional imbalance of collagenolytic activity in the periodontal ligament was responsible for periodontitis in papillon - lefevre syndrome . in 1984 , vandyke suggested that neutrophils from an individual with papillon - lefevre syndrome exhibit decreased receptor affinity for chemotaxins such as formyl peptides . \\n papillon - lefevre syndrome is associated with myeloperoxide deficiency , low integrin expression , defective phagocytosis and chemotaxis . \\n hattab et al . , reported four cases of papillon - lefevre syndrome affecting two jordanian families with eight children . in all patients there was a relationship between increased severity of skin lesions and seasonal variations and intensified periodontal destruction . \\n lass et al . in three multiplex families , one ethiopian and two german , demonstrated linkage of papillon - lefevre syndrome with chromosome 11q13-q14 . \\n fischer et al . , conducted a primary genome wide search by homozygosity mapping in a large consanguineous family with four affected siblings . \\n . toomes et al . , showed that in patients with papillon - lefevre syndrome gene for cathepsin c which lies in chromosome 11 had undergone mutation resulting in decreased cathepsin c production . \\n hart et al . , reported mutations in cathepsin c gene in patients with papillon - lefevre syndrome from five different countries . in conclusion , \\n further studies in the field of microbiology and genetics are necessary to find the exact cause of periodontal destruction in such patients , so that best possible dental treatment can be rendered to them .\",\n          \"infarct of the anterior spinal artery is the most common subtype of spinal cord infarct , and is characterized by bilateral motor deficits with spinothalamic sensory deficits . \\n we experienced a case with atypical anterior - spinal - artery infarct that presented with bilateral hand weakness but without sensory deficits . \\n a 29-year - old man presented with sudden neck pain and bilateral weakness of the hands . magnetic resonance imaging ( mri ) of the brain did not reveal any lesion . \\n his motor symptoms improved rapidly except for mild weakness in his left wrist and fingers . \\n magnetic resonance angiography showed proximal occlusion of the left vertebral artery ; a spine mri revealed left cervical cord infarction . \\n bilateral or unilateral hand weakness can be the sole symptom of a cervical cord infarct . \\n spinal cord infarction is much less frequent than cerebral infarction , accounting for only 1% of all strokes.1 the anterior spinal artery supplies the anterior two - thirds of the spinal cord via the sulcal ( central ) artery . \\n this usually results in anterior spinal artery infarcts presenting with profound bilateral motor deficits , sensory disturbances , and spinothalamic sensory deficits.2,3 although the mechanisms are not completely understood , there are some case reports of restrictive clinical syndromes , such as the ' man - in - the - barrel syndrome ' and the sulcal artery syndrome.4,5 here we describe a patient who presented with bilateral hand weakness but without sensory deficits due to left vertebral artery occlusion . \\n a healthy 29-year - old man without any vascular risk factors presented with sudden neck pain and bilateral hand weakness . after flexing his neck while tying his shoelaces \\n , the patient experienced a sudden , severe pain ( with a maximum score on a visual analog scale ) that started in the posterior neck and spread rapidly across the entire head . \\n bilateral hand weakness that followed the pain onset prevented the patient from tying his shoelaces . \\n the patient 's vital signs were stable upon hospital admission , except for markedly elevated blood pressure ( 202/108 mm hg ) . \\n the initial neurological examination revealed weakness in both flexion and extension of the wrists and fingers bilaterally , and during left leg extension [ medical research council ( mrc ) grade 4 ] . \\n however , the deep tendon reflexes were normal and the patient denied hypoesthesia in any sensory modality including pain , temperature , proprioception , and vibration . \\n laboratory findings were normal , and chest radiography did not reveal any pathology ; an electrocardiogram also produced no evidence of ischemia or arrhythmia . \\n his motor symptoms improved rapidly within 1 day except for mild weakness of his left wrist ( mrc grade of flexion / extension iv / iv ) and fingers ( mrc grade of flexion / extension iv / iv ; slightly more severe in the 5th finger ) . \\n brain computed tomography ( ct ) and brain magnetic resonance imaging ( mri ) did not reveal any signal abnormalities or mass lesions . \\n however , ct aortography identified severe stenosis and occlusion of the left vertebral artery , and a pseudo lumen with mural thrombi was suspected on cervical mri ( fig . \\n mri of the cervical segment produced high signal intensities in the left gray matter of spinal cord at the c3 , c4 , and c6 levels on diffusion - weighted images ( fig . \\n magnetic resonance angiography performed 3 months after symptom onset showed persistent occlusion of the left vertebral artery . \\n unique features of this spinal - cord - infarct patient were bilateral hand weakness , absence of sensory deficits , and rapid improvement of motor symptoms in the right hand and left leg . \\n weakness of both arms has been reported previously in association with cervical cord infarcts , typically also with spinothalamic sensory deficit and vertebral artery occlusion.4,5,6,7 the mechanism that preserves leg strength in these cases is most likely collateral flow from the surrounding pial plexus.4 nevertheless , weakness of both hands without sensory deficits is rare in infarcts of the cervical spinal cord , and its mechanism remains to be determined.7,8 the anterior spinal artery forms at the level of the foramen magnum from the branches of the vertebral artery , and gives rise to the sulcal ( central ) arteries that penetrate the right and left sides of the spinal cord.3 unlike circumferential areas of the spinal cord , its interior has no anastomosis and the sulcal arteries are essentially end arteries . \\n therefore , the weakness of both hands in the present patient suggests that the end - arteries zone or the zone bordering the sulcal artery and circumferential artery corresponds to a region where hand motor neurons are located bilaterally.8 this would include the ventrolateral to lateral regions within the gray matter of the lower cervical spinal cord ( fig . \\n 3).9,10 alternatively , the hand motor areas may be more vulnerable than the more proximal arm motor areas . \\n the hand motor area occupies a relatively large proportion of the cortical homunculus , so the hand motor area may occupy a larger area in the spinal gray matter , or require a larger blood supply.11,12 finally , the isolated unilateral hand weakness of this patient may be related to variation in the branches of the sulcal artery . \\n successive sulcal arteries generally alternate in their distribution to the left or right side of the spinal cord , but not both ; this would make unilateral involvement or improvement possible.5 sensory deficit was absent in the present case . \\n all subtypes of spinal cord infarcts are presumed to have sensory deficits , and therefore a pure motor presentation can result in misdiagnosis.2,3 anterolateral involvement could explain the present atypical presentation , and bilateral presentation without facial weakness may indicate a spinal cord infarct.5 transient ischemic attacks in the spinal cord reported occur primarily in the cervical cord , and recovery depends on the severity of the initial involvement and its collateral flow.1,2,6 cervical lesions are generally less vulnerable to ischemic insults than are thoracic or lumbar lesions due to the intensive vascularization from the vertebral and radicular arteries.3,6,13 the rapid improvement in the present case might therefore have resulted from initial distal involvement and collateral flow from the intact right vertebral artery . in conclusion , transient bilateral hand weakness can be the initial symptom of a spinal cord infarct , and unilateral hand weakness can be the sole symptom of a cervical cord infarct .\",\n          \"pneumonia causes almost 1 in 5 under - five deaths worldwide and is responsible for more than 2 million deaths of children each year . \\n nigeria , with a predicated incidence of 6.1 million pneumonia cases and 0.38 episodes of pneumonia per child - year in 2008 , ranks 5th among the 15 countries with highest pneumonia burden in the world . \\n it is a leading cause of childhood morbidity and mortality in developing countries including nigeria . in 2010 , pneumonia accounted for 868,000 deaths in under-5 children , which was 14% of all causes of deaths in children . \\n however when detected early , pneumonia can be treated with easily available medication at a low cost . \\n unfortunately , only one in five caregivers in developing countries can recognize the danger signs of pneumonia like rapid breathing and chest indrawing , and only half of children under 5 with pneumonia are taken to an appropriate healthcare provider . in a population based survey carried out in six countries in sub - saharan africa , only about 18% and 30% of children with suspected pneumonia in nigeria and ethiopia , respectively , were taken to hospital for healthcare . in a systematic review of ninety - one studies that reported recognition and/or care seeking for diarrhoea , pneumonia , and malaria in low and middle income countries ( lmics ) , it was shown that the median sensitivity of recognition of pneumonia among caregivers was low ( 45.8% ) and care seeking from community health worker for pneumonia was 4.2% . the world health organization ( who ) and unicef have recommended strengthening family 's capacity to recognize danger signs and prompt care seeking as one of the interventions for controlling pneumonia in children under five . \\n this study seeks to determine the maternal perception and care seeking behaviour concerning danger signs of childhood pneumonia . \\n it is hoped that the findings of this study will help reduce mortality from pneumonia in children and will contribute to achieving the sustainable development goal on child mortality . \\n this study was conducted in enugu state , the host town of enugu state university of science and technology . \\n it is located in south east nigeria on latitude 6 27n and longitude 7 30e . \\n enugu state is made up of 17 local government areas with its capital carved from enugu north , enugu south , and enugu east lgas . \\n the majority of the inhabitants are of igbo ethnicity , and christianity is the dominant religion . \\n the minimum monthly income is similar to the national average of 18,000 ( 90 us dollars ; national minimum wage act 2011 ) . \\n literacy rate is 66% , which is higher than the national literacy rate of 45% , and there are 955 males per 1,000 females . \\n the study was conducted over a 10-month period in 4 of the 17 local government areas ( lgas ) of enugu state . \\n the lgas were divided into rural and semiurban categories based on level of development and population in the lgas . \\n simple random sampling using balloting method was used to select 2 lgas from each category . in the second stage , \\n one community was selected from each lga using simple random sampling ( i.e. , one community from each of the two rural and two semiurban lgas ) . in each of the communities visited , through adequate mobilization using the community leaders , \\n women who were caring and/or had cared for a child in the past 2 years and consented to participate were consecutively enrolled . \\n three hundred and nineteen ( 319 ) caregivers who met the inclusion criteria and gave consent to participate were interviewed in the rural communities while one hundred and forty - seven ( 147 ) were interviewed in the semiurban communities . \\n the following sociodemographic variables of respondents were assessed : ( i ) age grouped into 2030 , 3140 , and > 40 years , ( ii ) highest educational attainment grouped into tertiary , secondary , primary , and no education , ( iii ) number of living children grouped into none , 14 , and > 4 children , and ( iv ) socioeconomic class : defined as the wealth index of the household derived using maternal and paternal highest educational attainment and occupation based on oyedeji classification . \\n pneumonia is inflammation of one or both lungs caused by variety of organisms and chemical substances characterized by cough , shortness of breath , fever and difficult breathing , cyanosis , and death in severe cases . \\n oyi  in the local igbo language and this name was used for respondents that do not understand english . the world health organization ( who ) recognizes four features as danger signs in pneumonia . \\n they include stridor , fast breathing , chest wall indrawing , and difficulty in breathing ( labored breathing ) . knowledge of danger signs of pneumonia was assessed using open ended questions based on who definition . \\n based on their responses , the respondents were grouped into no knowledge of danger signs and knowledge of at least one danger sign . also knowledge and uptake of vaccine against pneumonia \\n the respondents were grouped into  yes  for those who were aware of the danger signs and had vaccinated their children and  no  for those who had not heard about pneumonia and had not vaccinated their children . \\n health seeking behavior of respondents was assessed to determine where care was sought for a child with suspected pneumonia and the treatment given . \\n quality control check to detect errors in questionnaire administration and data recording was done by researchers on daily basis after enrollment . where there are errors detected , the interviewers were asked to clarify them accordingly with the interviewed mother or caregiver . \\n data cleaning to remove grossly incomplete and/or inconsistent data was also done by researcher assistants and the study researchers . \\n results were presented as percentages and 95% confidence intervals where appropriate . statistical significance was set at p value < 0.05 . \\n informed consent ( written ) was obtained from every mother in her own right and on behalf of her child before recruitment . \\n most of the respondents 166 ( 37.4% ) were 40 years and above while those in the 2030 and 3140 years of age bracket were 158 ( 35.6% ) and 120 ( 27.0% ) , respectively . \\n approximately half of the respondents 278 ( 49.7% ) had primary school or no formal education and 280 ( 60.1% ) in the lower socioeconomic class . \\n respondents in the middle and upper socioeconomic class made up 103 ( 22.1% ) and 83 ( 17.8% ) of respondents . \\n almost two - fifth , 166 ( 39.0% ) of the respondents , have more than 4 children and 246 ( 57.7% ) with 14 children . \\n fourteen ( 3.3% ) of the respondents had no children at all but had cared for one or more children in the past . in all , 211 children 5 years or younger of respondents with a mean age of 13.7 months were involved in the study ( table 1 ) . \\n about 95% of the respondents ( 440/464 ) had heard of pneumonia and the remaining 24 ( 5.2% ) never heard about it . when asked about the cause , \\n majority of the respondents 394 ( 88.7% ) believe pneumonia is caused by exposure to cold environment and/or ingestion of cold fluid or food while 32 ( 6.9% ) have no idea what the cause of pneumonia is . the correlation ( r ) between awareness of pneumonia and knowledge of its cause is 0.374 ( p = 0.001 ) . for respondents who proffered an answer whether correct or incorrect , source of information was via electronic media ( i.e. , radio and/or television ) in 123 ( 26.5% ) , through the internet in 6 ( 1.3% ) , and during medical counseling in 226 ( 48.7% ) respondents . \\n other sources of information include print media in 13 ( 2.8% ) , social interactions in 73 ( 15.7% ) , schools in 37 ( 8.0% ) , churches in 8 ( 1.7% ) , and others in 18 ( 3.9% ) respondents . \\n almost all 426 ( 97.7% ) of the 440 respondents who have heard of pneumonia acknowledged that it is a potentially dangerous illness that could lead to serious complications . \\n inquiry into preventive measures against pneumonia showed that the vast majority believe that adequate clothing 127 ( 49.6% ) and avoiding cold food and environment 38 ( 14.8% ) were the best strategy to prevent pneumonia . \\n other preventive measures listed by respondents include cleanliness 24 ( 9.4% ) , feeding well 14 ( 5.5% ) , drugs 11 ( 4.3% ) , vaccination 27 ( 10.5% ) , prayer 2 ( 0.8% ) , educating caregivers 3 ( 1.2% ) , and avoiding crowded areas 3 ( 1.2% ) . \\n knowledge of vaccine against pneumonia was alleged by 218 ( 46.8% ) of respondents out of which 185 ( 39.7% ) claimed they took the pneumococcal vaccine for their index child . \\n some of the reasons for nonvaccination for the 281 ( 60.3% ) respondents who did not vaccinate their child included lack of knowledge of the availability of pneumococcal vaccine ( 209/281 ; 74.3% ) , nonavailability of the vaccine in health facilities around respondents residence ( 42/281 ; 15.0% ) , religious concerns ( 8/281 ; 2.9% ) , cost of vaccination ( 12/281 ; 4.3% ) , universal concern about ineffectiveness of vaccination ( 6/281 ; 2.1% ) , and side effects ( 4/281 ; 1.4% ) . further analysis showed that only maternal education ( p = 0.00 ) and place of residence ( p = 0.02 ) were significantly associated with correct knowledge of pneumonia aetiology , knowledge of dangers signs of pneumonia ( p = 0.00 ) , and uptake of vaccination ( p = 0.01 ) against pneumonia ( table 2 ) . \\n respondents were asked to list all features that in their opinion signify danger when a child is suspected of having pneumonia . \\n fever 226 ( 20.6% ) , fast breathing 181 ( 16.5% ) , continuous cough 180 ( 16.4% ) , chest pain 67 ( 6.1% ) , and difficulty in breathing 66 ( 6.0% ) were the most listed features . \\n also listed were cold body ( i.e. , hypothermia ) 63 ( 5.7% ) , catarrh / running nose 43 ( 3.9% ) , weakness 41 ( 3.7% ) , chest wall indrawing 37 ( 3.4% ) , convulsion 33 ( 3.0% ) , and others 161 ( 14.7% ) . \\n the others included but not limited to poor suck 33 , excessive cry 28 , abdominal distension 27 , restlessness 18 , stridor , that is , noisy breathing 15 , unconsciousness 11 , vomiting 10 , watery stooling 9 , dullness of face and body 6 , and pale skin 5 ( table 3 ) . \\n information source on perceived danger signs of respondents followed almost a similar pattern as causes of pneumonia described above except that previous experience of danger signs accounted for close to half , 224 ( 48.1% ) of information source here . \\n others include electronic media in 99 ( 21.2% ) , internet in 11 ( 2.4% ) , social interaction in 10 ( 2.1% ) , medical counseling in 86 ( 18.5% ) , and others in 35 ( 7.2% ) respondents . \\n two hundred and thirty - two ( 56.3% ) of respondents have experienced their perceived danger sign of pneumonia in one or more of their children . \\n fever 123 ( 24.5% ) , continuous cough 98 ( 19.5% ) , fast breathing 75 ( 14.9% ) , cold 34 ( 6.8% ) , convulsion 22 ( 4.4% ) , and difficulty breathing 17 ( 3.4% ) top the list of the most experienced pneumonia danger signs among children of respondents ( table 3 ) . the who / unicef recognised danger signs most commonly known by respondents were fast breathing ( 60.5% ) and difficulty in breathing ( 22.1% ) while chest indrawing ( 12.4% ) and stridor , that is , noisy breathing ( 5.0% ) , were less known to respondents ( table 3 ) . \\n knowledge of at least one who / unicef recognised danger sign was seen in 304 ( 65.2% ) of respondents while knowledge of 2 , 3 , and 4 recognised danger signs was seen in 219 ( 47.0% ) , 37 ( 7.9% ) , and 22 ( 4.7% ) of respondents , respectively . \\n one hundred and sixty - two ( 34.8% ) had knowledge of none of the who / unicef danger signs . \\n just like cause and vaccine knowledge , maternal level of educational attainment ( p = 0.04 ) , and place of residence ( p = 0.00 ) were significantly associated with knowledge of the who / unicef recognised pneumonia danger signs in children among respondents ( table 2 ) . \\n sixty - four percent of the 253 that responded to the question presented to the hospital , 78 ( 30.8% ) either bought drugs over the counter or visited the patent medicine dealer for treatment , 10 ( 4.0% ) consulted the traditionalist , and 3 ( 1.2% ) took the child to the church for prayers and spiritual healing . \\n first - line treatment option in all respondents ranged from antibiotics 52 ( 20.2% ) , cough syrups 119 ( 46.3% ) , vitamin c 7 ( 0.03% ) , drug combinations 46 ( 17.9% ) [ i.e. , antibiotics + cough syrup , antibiotics + cough syrup + vitamin c , etc . \\n ] , herbal concoction 9 ( 0.04% ) , and hospital admission 24 ( 9.4% ) . \\n majority of the children 202 ( 81.1% ) recovered fully , 38 ( 15.3% ) did not survive the experience , and 9 ( 3.6% ) recovered but with complications . \\n caregivers with tertiary education ( 70.0% ) used hospitals more compared to those with secondary ( 60% ) , primary ( 68% ) , and no education ( 60% ) ( p = 0.001 ) . \\n conversely , caregivers with no formal education ( 14.0% ) and those with primary education ( 2.0% ) used traditional and/or spiritual treatment more compared to those with tertiary ( 0.0% ) and secondary school education ( 0.0% ) ( p = 0.001 ) . finally , caregivers resident in rural area compared to those resident in semiurban areas sought care in a healthcare facility more ( 65.0% versus 59.0% ) , self - medicated less ( 28.0% versus 41.0% ) , and consulted traditionalist and/or spiritualist more ( 7.0% versus 0.0% ) ( p = 0.04 ) ( table 2 ) . \\n this study investigated the knowledge of caregivers and caregivers in enugu about the aetiology and danger signs of pneumonia . \\n it also sought to determine factors that influenced the knowledge and health seeking behaviour of caregivers for their under-5 children with probable pneumonia . \\n the study showed high awareness ( 95% ) and knowledge of potential fatality of pneumonia disease ( 97.7% ) among respondents but poor knowledge of the aetiology ( 4.1% ) and danger signs of probable pneumonia . \\n a similar study in thailand also showed inadequate knowledge of danger signs ( 7% ) and causes ( 21% ) of pneumonia among respondents . \\n the relatively poorer knowledge of causes of pneumonia in this study may be related to the higher number of caregivers without any formal education ( 29.2% ) compared to 4.3% among respondents in the thailand study . \\n it was noted in that study that none of the caregivers surveyed was able to mention the four standard danger signs of childhood pneumonia and only 9.4% of the respondents knew that lower chest wall indrawing was a danger sign in childhood pneumonia . \\n it was also shown in this study that older caregivers , caregivers with higher educational attainment , and those that are resident in semiurban areas had better knowledge of the cause and danger signs of pneumonia . \\n this is hardly surprising as caregivers with these sociodemographic variables are more likely to have more experiences of childhood illnesses and/or are better informed about pneumonia . \\n it showed that caregivers with lower than tertiary education were more likely to have less knowledge on aspects of pneumonia disease . \\n the lagos study in addition showed that caregivers whose information source about pneumonia was from health personnel were more likely to have correct information on the cause of pneumonia compared to those from other sources . \\n this fact was supported by this present study which revealed that respondents who obtained their information from medical personnel were more likely to have correct knowledge of aetiology and prevention of pneumonia compared to respondents that got their information from other sources . \\n inquiries into the preventive strategies showed that majority of the respondents believed that adequate clothing and avoidance of cold food , drink , or environment prevents pneumonia disease in a child . \\n this belief which is a common misconception among many lay people in nigeria was also corroborated by the study in lagos which found that 75.6% of mothers surveyed believed that cold was the main cause of pneumonia . \\n furthermore , almost half of respondents in the present survey had knowledge of pneumonia vaccine with only 39.9% of these respondents having vaccinated their child against pneumonia . \\n similarly , only about a tenth of caregivers in our survey listed vaccination as a preventive strategy for pneumonia . \\n this low uptake rate is expected as pneumococcal vaccines , which are relatively new additions to the national immunization schedules , are not widely available in public health facilities . \\n furthermore , even when available , they are not free like other routine vaccines in nigeria . \\n higher maternal educational attainment and residence in semiurban areas were significantly associated with knowledge about pneumococcal vaccine and uptake rate among children of surveyed caregivers . \\n a study conducted in the africa center demographic site in south africa showed that caregivers with secondary and tertiary education were 1.10 and 1.09 times , respectively , more likely to uptake pneumococcal conjugate vaccine ( pcv ) for their children compared to caregivers with no education . \\n it further showed that those caregivers resident in rural and periurban areas were 0.90 and 0.96 times less likely to uptake pneumococcal vaccine for their child . \\n though majority of the respondents in our study took their children to hospital on suspicion of pneumonia , nearly 40% either self - medicated and/or consulted traditionalist or spiritualist as the first line of action . \\n the finding that caregivers with lower education were more likely to engage in this behaviour is easily rationalized . \\n because these caregivers are more likely to be less informed and easily persuaded , they will more likely be influenced by advice from friends and relatives to seek nonmedical solutions for their child 's illness ( especially in the face of poverty ) . \\n it was further noted that caregivers in rural area were more likely to visit hospital , less likely to self - medicate , and also more likely to visit traditionalist and/or spiritualist compared to caregivers in urban areas . \\n it could be further rationalized that because of the easy accessibility of various category of drug stores and ease of getting drugs over the counter in urban areas caregivers tended to patronize these drug dealers and self - medicate their children during illnesses . \\n similarly , because of the traditional belief which is inherent in rural communities and poorer accessibility to healthcare facilities , it is not surprising that caregivers in rural areas may more likely seek traditional and/or spiritualist help for their child 's illness . \\n contrary to this finding , a community based comparative study in dera district of oromia regional state , ethiopia , showed that more caregivers in urban area ( 75.0% ) sought healthcare for acute respiratory tract infection in their children from healthcare institution compared to those in rural areas ( 34.4% ) . \\n although no explanation was proffered by the authors for this finding , one could speculate that the higher number of caregivers with formal education in the urban category ( 28.7% ) compared to caregivers in the rural category ( 3.6% ) may have contributed to the higher healthcare seeking behaviour among caregivers in the urban compared to those in the rural setting   unlike our study where there is no significant difference in educational attainment between caregivers ' resident in urban and rural area . \\n finally , we observed in our study that fast breathing and difficulty in breathing ( labored breathing ) were the most known and experienced who recognized danger signs among respondents . \\n this may be related to the ease of noticing these symptoms in children compared to chest wall indrawing and stridor . \\n the proportion of caregivers who had knowledge of these signs was more than what was observed in a similar study in uganda . on the other hand , fever , fast breathing , and cough were the most perceived and experienced danger sign among respondents in this study . \\n khas district of pakistan similarly noted that fever and cough ( 65.2% ) , followed by fast breathing and chest wall indrawing ( 59.4% ) , were the most perceived symptoms of pneumonia by mothers in the district . \\n as noted earlier , this may be related to the ease of picking up these symptoms in children . \\n selection bias would have resulted due to the point enrollment because prospective study participants were required to gather at a preagreed location for consenting and enrollment . household sampling and enrollment which could have significantly reduced selection bias \\n could not be done during selection of respondents in the community due to unorganized household locations and difficult terrains in some communities . also , recall bias could have led to errors in data measurement , classification , and analysis since some caregivers were interviewed on events that took place in the past . \\n this study demonstrated poor knowledge of the aetiology , danger signs , and prevention of childhood pneumonia amongst caregivers . \\n health education targeted at caregivers will enhance dissemination of information to fill this knowledge deficit and hopefully reduce morbidity and mortality from childhood pneumonia . therefore the authors intend to embark on workshops to sensitize medical personnel on the need to educate the caregivers on the danger signs and prevention of childhood pneumonia .\"\n        ],\n        \"semantic_type\": \"\",\n        \"description\": \"\"\n      }\n    },\n    {\n      \"column\": \"abstract\",\n      \"properties\": {\n        \"dtype\": \"string\",\n        \"num_unique_values\": 125,\n        \"samples\": [\n          \"papillon - lefevre syndrome is a rare ( 1 - 4 cases per million ) autosomal recessive disorder showing predominantly oral and dermatological manifestations in the form of aggressive periodontitis affecting both primary and permanent dentition and palmoplantar hyperkeratosis . \\n genetic studies have shown that mutations in the major gene locus of chromosome 11q14 with loss of function of cathepsin c gene are responsible for papillon - lefevre syndrome . \\n this report presents two siblings with classic signs and symptoms of papillon - lefevre syndrome . \\n the exact cause for periodontal destruction in patients with papillon - lefevre syndrome is not known but it is thought to be due to defect in neutrophil function , immune suppression and mutations in cathepsin c gene .\",\n          \"backgroundinfarct of the anterior spinal artery is the most common subtype of spinal cord infarct , and is characterized by bilateral motor deficits with spinothalamic sensory deficits . \\n we experienced a case with atypical anterior - spinal - artery infarct that presented with bilateral hand weakness but without sensory deficits.case reporta 29-year - old man presented with sudden neck pain and bilateral weakness of the hands . \\n magnetic resonance imaging ( mri ) of the brain did not reveal any lesion . \\n his motor symptoms improved rapidly except for mild weakness in his left wrist and fingers . \\n magnetic resonance angiography showed proximal occlusion of the left vertebral artery ; a spine mri revealed left cervical cord infarction.conclusionsbilateral or unilateral hand weakness can be the sole symptom of a cervical cord infarct .\",\n          \"background . efforts to reduce child mortality especially in africa must as a necessity aim to decrease mortality due to pneumonia . to achieve this , \\n preventive strategies such as expanding vaccination coverage are key . \\n however once a child develops pneumonia prompt treatment which is essential to survival is dependent on mothers and caregiver recognition of the symptoms and danger signs of pneumonia . methods . \\n this community based cross - sectional study enrolled four hundred and sixty - six caregivers in enugu state . \\n it aimed to determine knowledge of caregivers about danger signs of pneumonia and the sociodemographic factors that influence knowledge and care seeking behaviour of caregivers . \\n results . \\n there is poor knowledge of the aetiology and danger signs of pneumonia among caregivers . \\n higher maternal educational attainment and residence in semiurban area were significantly associated with knowledge of aetiology , danger signs , and vaccination of their children against pneumonia . \\n fast breathing and difficulty in breathing were the commonest known and experienced who recognized danger signs while fever was the commonest perceived danger sign among caregivers . \\n conclusion . \\n knowledge of danger signs and health seeking behaviour among caregivers is inadequate . \\n there is need for intensified public and hospital based interventions targeted at mothers to improve their knowledge about pneumonia .\"\n        ],\n        \"semantic_type\": \"\",\n        \"description\": \"\"\n      }\n    },\n    {\n      \"column\": \"predictions\",\n      \"properties\": {\n        \"dtype\": \"string\",\n        \"num_unique_values\": 125,\n        \"samples\": [\n          \"hyperkeratosis of palms and soles - case 1 hyperkeratosis of knees - case 1 intra - oral view - maxilla - case 1 intra - oral view - mandible - case 1 this patient too showed considerable hyperkeratosis of palms and soles [ figure 6 ]. hyperkeratosis of palms and soles - case 2 intra - oral view - maxilla - case 2 intra - oral view - mandible - case 2 complete blood count, serum calcium and alkaline phosphatase levels were done for both patients and were found to be within normal limits.\",\n          \"magnetic resonance angiography showed proximal anterior occlusion of the left vertebral artery ; a spine mri revealed left cervical cord infarction. spinal cord infarction is much less frequent than cerebral infarction, accounting for only 1% of all strokes.1 the anterior spinal artery supplies the two - thirds of the spinal cord via the sulcal ( central ) artery. this usually results in anterior spinal artery infarcts presenting with profound bilateral motor deficits, sensory disturbances, and spinothalamic sensory deficits.2,3 although the mechanisms are not completely understood, there are some case reports of restrictive clinical syndromes, such as\",\n          \"unfortunately, only one in five caregivers in developing countries can recognize the danger signs of pneumonia like rapid breathing and chest indrawing, and only half of children under 5 with pneumonia are taken to an appropriate healthcare provider. in a systematic review of ninety - one studies that reported recognition and/or care seeking for diarrhoea, pneumonia, and malaria in low and middle income countries ( lmics ), it was shown that the median sensitivity of recognition of pneumonia among caregivers was low ( 45.8% ) and care seeking from community health worker for pneumonia was 4.2%.\"\n        ],\n        \"semantic_type\": \"\",\n        \"description\": \"\"\n      }\n    }\n  ]\n}"
            }
          },
          "metadata": {},
          "execution_count": 91
        }
      ]
    },
    {
      "cell_type": "markdown",
      "source": [
        "## 6. Model Evaluation"
      ],
      "metadata": {
        "id": "_mJe1-otH2vZ"
      }
    },
    {
      "cell_type": "code",
      "source": [
        "# Installing packages to be used to calculate metrics\n",
        "!pip install nltk rouge-score bert-score"
      ],
      "metadata": {
        "colab": {
          "base_uri": "https://localhost:8080/"
        },
        "id": "xJywAJCTTuVo",
        "outputId": "581025d5-86a1-4c27-f7dd-7b12f1f334b3"
      },
      "execution_count": 92,
      "outputs": [
        {
          "output_type": "stream",
          "name": "stdout",
          "text": [
            "Requirement already satisfied: nltk in /usr/local/lib/python3.10/dist-packages (3.8.1)\n",
            "Requirement already satisfied: rouge-score in /usr/local/lib/python3.10/dist-packages (0.1.2)\n",
            "Requirement already satisfied: bert-score in /usr/local/lib/python3.10/dist-packages (0.3.13)\n",
            "Requirement already satisfied: click in /usr/local/lib/python3.10/dist-packages (from nltk) (8.1.7)\n",
            "Requirement already satisfied: joblib in /usr/local/lib/python3.10/dist-packages (from nltk) (1.4.2)\n",
            "Requirement already satisfied: regex>=2021.8.3 in /usr/local/lib/python3.10/dist-packages (from nltk) (2023.12.25)\n",
            "Requirement already satisfied: tqdm in /usr/local/lib/python3.10/dist-packages (from nltk) (4.66.4)\n",
            "Requirement already satisfied: absl-py in /usr/local/lib/python3.10/dist-packages (from rouge-score) (1.4.0)\n",
            "Requirement already satisfied: numpy in /usr/local/lib/python3.10/dist-packages (from rouge-score) (1.25.2)\n",
            "Requirement already satisfied: six>=1.14.0 in /usr/local/lib/python3.10/dist-packages (from rouge-score) (1.16.0)\n",
            "Requirement already satisfied: torch>=1.0.0 in /usr/local/lib/python3.10/dist-packages (from bert-score) (1.13.1)\n",
            "Requirement already satisfied: pandas>=1.0.1 in /usr/local/lib/python3.10/dist-packages (from bert-score) (2.0.3)\n",
            "Requirement already satisfied: transformers>=3.0.0 in /usr/local/lib/python3.10/dist-packages (from bert-score) (4.40.2)\n",
            "Requirement already satisfied: requests in /usr/local/lib/python3.10/dist-packages (from bert-score) (2.31.0)\n",
            "Requirement already satisfied: matplotlib in /usr/local/lib/python3.10/dist-packages (from bert-score) (3.7.1)\n",
            "Requirement already satisfied: packaging>=20.9 in /usr/local/lib/python3.10/dist-packages (from bert-score) (24.0)\n",
            "Requirement already satisfied: python-dateutil>=2.8.2 in /usr/local/lib/python3.10/dist-packages (from pandas>=1.0.1->bert-score) (2.8.2)\n",
            "Requirement already satisfied: pytz>=2020.1 in /usr/local/lib/python3.10/dist-packages (from pandas>=1.0.1->bert-score) (2023.4)\n",
            "Requirement already satisfied: tzdata>=2022.1 in /usr/local/lib/python3.10/dist-packages (from pandas>=1.0.1->bert-score) (2024.1)\n",
            "Requirement already satisfied: typing-extensions in /usr/local/lib/python3.10/dist-packages (from torch>=1.0.0->bert-score) (4.11.0)\n",
            "Requirement already satisfied: nvidia-cuda-runtime-cu11==11.7.99 in /usr/local/lib/python3.10/dist-packages (from torch>=1.0.0->bert-score) (11.7.99)\n",
            "Requirement already satisfied: nvidia-cudnn-cu11==8.5.0.96 in /usr/local/lib/python3.10/dist-packages (from torch>=1.0.0->bert-score) (8.5.0.96)\n",
            "Requirement already satisfied: nvidia-cublas-cu11==11.10.3.66 in /usr/local/lib/python3.10/dist-packages (from torch>=1.0.0->bert-score) (11.10.3.66)\n",
            "Requirement already satisfied: nvidia-cuda-nvrtc-cu11==11.7.99 in /usr/local/lib/python3.10/dist-packages (from torch>=1.0.0->bert-score) (11.7.99)\n",
            "Requirement already satisfied: setuptools in /usr/local/lib/python3.10/dist-packages (from nvidia-cublas-cu11==11.10.3.66->torch>=1.0.0->bert-score) (67.7.2)\n",
            "Requirement already satisfied: wheel in /usr/local/lib/python3.10/dist-packages (from nvidia-cublas-cu11==11.10.3.66->torch>=1.0.0->bert-score) (0.43.0)\n",
            "Requirement already satisfied: filelock in /usr/local/lib/python3.10/dist-packages (from transformers>=3.0.0->bert-score) (3.14.0)\n",
            "Requirement already satisfied: huggingface-hub<1.0,>=0.19.3 in /usr/local/lib/python3.10/dist-packages (from transformers>=3.0.0->bert-score) (0.23.0)\n",
            "Requirement already satisfied: pyyaml>=5.1 in /usr/local/lib/python3.10/dist-packages (from transformers>=3.0.0->bert-score) (6.0.1)\n",
            "Requirement already satisfied: tokenizers<0.20,>=0.19 in /usr/local/lib/python3.10/dist-packages (from transformers>=3.0.0->bert-score) (0.19.1)\n",
            "Requirement already satisfied: safetensors>=0.4.1 in /usr/local/lib/python3.10/dist-packages (from transformers>=3.0.0->bert-score) (0.4.3)\n",
            "Requirement already satisfied: contourpy>=1.0.1 in /usr/local/lib/python3.10/dist-packages (from matplotlib->bert-score) (1.2.1)\n",
            "Requirement already satisfied: cycler>=0.10 in /usr/local/lib/python3.10/dist-packages (from matplotlib->bert-score) (0.12.1)\n",
            "Requirement already satisfied: fonttools>=4.22.0 in /usr/local/lib/python3.10/dist-packages (from matplotlib->bert-score) (4.51.0)\n",
            "Requirement already satisfied: kiwisolver>=1.0.1 in /usr/local/lib/python3.10/dist-packages (from matplotlib->bert-score) (1.4.5)\n",
            "Requirement already satisfied: pillow>=6.2.0 in /usr/local/lib/python3.10/dist-packages (from matplotlib->bert-score) (9.4.0)\n",
            "Requirement already satisfied: pyparsing>=2.3.1 in /usr/local/lib/python3.10/dist-packages (from matplotlib->bert-score) (3.1.2)\n",
            "Requirement already satisfied: charset-normalizer<4,>=2 in /usr/local/lib/python3.10/dist-packages (from requests->bert-score) (3.3.2)\n",
            "Requirement already satisfied: idna<4,>=2.5 in /usr/local/lib/python3.10/dist-packages (from requests->bert-score) (3.7)\n",
            "Requirement already satisfied: urllib3<3,>=1.21.1 in /usr/local/lib/python3.10/dist-packages (from requests->bert-score) (2.0.7)\n",
            "Requirement already satisfied: certifi>=2017.4.17 in /usr/local/lib/python3.10/dist-packages (from requests->bert-score) (2024.2.2)\n",
            "Requirement already satisfied: fsspec>=2023.5.0 in /usr/local/lib/python3.10/dist-packages (from huggingface-hub<1.0,>=0.19.3->transformers>=3.0.0->bert-score) (2023.6.0)\n"
          ]
        }
      ]
    },
    {
      "cell_type": "code",
      "source": [
        "import nltk\n",
        "nltk.download('punkt')"
      ],
      "metadata": {
        "colab": {
          "base_uri": "https://localhost:8080/"
        },
        "id": "lZ-on2PiTz-S",
        "outputId": "6c8fa105-7bd1-4549-92e9-104d03a53977"
      },
      "execution_count": 93,
      "outputs": [
        {
          "output_type": "stream",
          "name": "stderr",
          "text": [
            "[nltk_data] Downloading package punkt to /root/nltk_data...\n",
            "[nltk_data]   Package punkt is already up-to-date!\n"
          ]
        },
        {
          "output_type": "execute_result",
          "data": {
            "text/plain": [
              "True"
            ]
          },
          "metadata": {},
          "execution_count": 93
        }
      ]
    },
    {
      "cell_type": "code",
      "source": [
        "from rouge_score import rouge_scorer\n",
        "import bert_score\n",
        "\n",
        "# A function which calculates all the metrics\n",
        "def evaluate_summary(predictions, abstract):\n",
        "\n",
        "    # ROUGE scores\n",
        "    scorer = rouge_scorer.RougeScorer(['rouge1', 'rouge2', 'rougeL'], use_stemmer=True)\n",
        "    scores = scorer.score(abstract, predictions)\n",
        "    rouge_1_precision = scores['rouge1'].precision\n",
        "    rouge_1_recall = scores['rouge1'].recall\n",
        "    rouge_1_f1 = scores['rouge1'].fmeasure\n",
        "\n",
        "    rouge_2_precision = scores['rouge2'].precision\n",
        "    rouge_2_recall = scores['rouge2'].recall\n",
        "    rouge_2_f1 = scores['rouge2'].fmeasure\n",
        "\n",
        "    rouge_l_precision = scores['rougeL'].precision\n",
        "    rouge_l_recall = scores['rougeL'].recall\n",
        "    rouge_l_f1 = scores['rougeL'].fmeasure\n",
        "\n",
        "    # BERTScore\n",
        "    bert_precision, bert_recall, bert_f1 = bert_score.score([predictions], [abstract], lang='en', model_type='bert-base-uncased')\n",
        "\n",
        "    # BLEU score\n",
        "    predictions_tokens = nltk.word_tokenize(predictions.lower())\n",
        "    abstract_tokens = nltk.word_tokenize(abstract.lower())\n",
        "    bleu_score = nltk.translate.bleu_score.sentence_bleu([abstract_tokens], predictions_tokens)\n",
        "\n",
        "    return {\n",
        "        'rouge-1_precision': rouge_1_precision,\n",
        "        'rouge-1_recall': rouge_1_recall,\n",
        "        'rouge-1_f1': rouge_1_f1,\n",
        "        'rouge-2_precision': rouge_2_precision,\n",
        "        'rouge-2_recall': rouge_2_recall,\n",
        "        'rouge-2_f1': rouge_2_f1,\n",
        "        'rouge-l_precision': rouge_l_precision,\n",
        "        'rouge-l_recall': rouge_l_recall,\n",
        "        'rouge-l_f1': rouge_l_f1,\n",
        "        'bertscore-precision': bert_precision.item(),\n",
        "        'bertscore-recall': bert_recall.item(),\n",
        "        'bertscore-f1': bert_f1.item(),\n",
        "        'bleu': bleu_score\n",
        "\n",
        "    }"
      ],
      "metadata": {
        "id": "pVc6i02rT1pR"
      },
      "execution_count": 94,
      "outputs": []
    },
    {
      "cell_type": "code",
      "source": [
        "import numpy as np\n",
        "\n",
        "# Function to call the evaluation\n",
        "def get_eval_metrics(candidate_sum, reference_sum):\n",
        "    rouge1_precision = []\n",
        "    rouge1_recall = []\n",
        "    rouge1_f1 = []\n",
        "    rouge2_precision = []\n",
        "    rouge2_recall = []\n",
        "    rouge2_f1 = []\n",
        "    rougeL_precision = []\n",
        "    rougeL_recall = []\n",
        "    rougeL_f1 = []\n",
        "    bert_score_p = []\n",
        "    bert_score_r = []\n",
        "    bert_score_f1 = []\n",
        "    bleu_scores = []\n",
        "\n",
        "    for i in range(len(candidate_sum)):\n",
        "       metrics = evaluate_summary(candidate_sum[i], reference_sum[i])\n",
        "\n",
        "       rouge1_precision.append(metrics['rouge-1_precision'])\n",
        "       rouge1_recall.append(metrics['rouge-1_recall'])\n",
        "       rouge1_f1.append(metrics['rouge-1_f1'])\n",
        "\n",
        "       rouge2_precision.append(metrics['rouge-2_precision'])\n",
        "       rouge2_recall.append(metrics['rouge-2_recall'])\n",
        "       rouge2_f1.append(metrics['rouge-2_f1'])\n",
        "\n",
        "       rougeL_precision.append(metrics['rouge-l_precision'])\n",
        "       rougeL_recall.append(metrics['rouge-l_recall'])\n",
        "       rougeL_f1.append(metrics['rouge-l_f1'])\n",
        "\n",
        "       bert_score_p.append(metrics['bertscore-precision'])\n",
        "       bert_score_r.append(metrics['bertscore-recall'])\n",
        "       bert_score_f1.append(metrics['bertscore-f1'])\n",
        "\n",
        "       bleu_scores.append(metrics['bleu'])\n",
        "\n",
        "\n",
        "    return {\n",
        "        'rouge-1_precision': round(np.mean(rouge1_precision), 4),\n",
        "        'rouge-1_recall': round(np.mean(rouge1_recall), 4),\n",
        "        'rouge-1_f1': round(np.mean(rouge1_f1), 4),\n",
        "        'rouge-2_precision': round(np.mean(rouge2_precision), 4),\n",
        "        'rouge-2_recall': round(np.mean(rouge2_recall), 4),\n",
        "        'rouge-2_f1': round(np.mean(rouge2_f1), 4),\n",
        "        'rouge-l_precision': round(np.mean(rougeL_precision), 4),\n",
        "        'rouge-l_recall': round(np.mean(rougeL_recall), 4),\n",
        "        'rouge-l_f1': round(np.mean(rougeL_f1), 4),\n",
        "        'bertscore-precision': round(np.mean(bert_score_p), 4),\n",
        "        'bertscore-recall': round(np.mean(bert_score_r), 4),\n",
        "        'bertscore-f1': round(np.mean(bert_score_f1), 4),\n",
        "        'bleu': round(np.mean(bleu_scores), 4)\n",
        "\n",
        "  }"
      ],
      "metadata": {
        "id": "7HO9yxgGUblJ"
      },
      "execution_count": 95,
      "outputs": []
    },
    {
      "cell_type": "code",
      "source": [
        "predict_summary = test_data[\"predictions\"]\n",
        "abstract_summary = test_data[\"abstract\"]\n",
        "pegasus_scores = get_eval_metrics(predict_summary, abstract_summary)"
      ],
      "metadata": {
        "id": "s6wmZtMOUtp8",
        "colab": {
          "base_uri": "https://localhost:8080/"
        },
        "outputId": "0f2f75d9-bbc0-4a5c-e420-5931bbd24ba0"
      },
      "execution_count": 96,
      "outputs": [
        {
          "output_type": "stream",
          "name": "stderr",
          "text": [
            "/usr/local/lib/python3.10/dist-packages/nltk/translate/bleu_score.py:552: UserWarning: \n",
            "The hypothesis contains 0 counts of 4-gram overlaps.\n",
            "Therefore the BLEU score evaluates to 0, independently of\n",
            "how many N-gram overlaps of lower order it contains.\n",
            "Consider using lower n-gram order or use SmoothingFunction()\n",
            "  warnings.warn(_msg)\n",
            "/usr/local/lib/python3.10/dist-packages/nltk/translate/bleu_score.py:552: UserWarning: \n",
            "The hypothesis contains 0 counts of 3-gram overlaps.\n",
            "Therefore the BLEU score evaluates to 0, independently of\n",
            "how many N-gram overlaps of lower order it contains.\n",
            "Consider using lower n-gram order or use SmoothingFunction()\n",
            "  warnings.warn(_msg)\n",
            "/usr/local/lib/python3.10/dist-packages/nltk/translate/bleu_score.py:552: UserWarning: \n",
            "The hypothesis contains 0 counts of 2-gram overlaps.\n",
            "Therefore the BLEU score evaluates to 0, independently of\n",
            "how many N-gram overlaps of lower order it contains.\n",
            "Consider using lower n-gram order or use SmoothingFunction()\n",
            "  warnings.warn(_msg)\n"
          ]
        }
      ]
    },
    {
      "cell_type": "code",
      "source": [
        "# Score results\n",
        "pegasus_scores"
      ],
      "metadata": {
        "colab": {
          "base_uri": "https://localhost:8080/"
        },
        "id": "tY6DF6ZnUvzq",
        "outputId": "248c6a92-c2fc-45e8-98ec-12bc7c33339b"
      },
      "execution_count": 97,
      "outputs": [
        {
          "output_type": "execute_result",
          "data": {
            "text/plain": [
              "{'rouge-1_precision': 0.457,\n",
              " 'rouge-1_recall': 0.2105,\n",
              " 'rouge-1_f1': 0.2698,\n",
              " 'rouge-2_precision': 0.1426,\n",
              " 'rouge-2_recall': 0.0631,\n",
              " 'rouge-2_f1': 0.0807,\n",
              " 'rouge-l_precision': 0.2768,\n",
              " 'rouge-l_recall': 0.125,\n",
              " 'rouge-l_f1': 0.1603,\n",
              " 'bertscore-precision': 0.5948,\n",
              " 'bertscore-recall': 0.5221,\n",
              " 'bertscore-f1': 0.554,\n",
              " 'bleu': 0.0284}"
            ]
          },
          "metadata": {},
          "execution_count": 97
        }
      ]
    },
    {
      "cell_type": "code",
      "source": [
        "from datasets import load_metric\n",
        "rouge = load_metric(\"rouge\")\n",
        "\n",
        "rouge_scores = rouge.compute(predictions=test_data[\"predictions\"], references=test_data[\"abstract\"])\n",
        "print(rouge_scores)"
      ],
      "metadata": {
        "colab": {
          "base_uri": "https://localhost:8080/"
        },
        "id": "GNJ1nBi1NPcs",
        "outputId": "80f0fab3-7388-4adb-fe9b-cf9a6a8d7043"
      },
      "execution_count": 98,
      "outputs": [
        {
          "output_type": "stream",
          "name": "stderr",
          "text": [
            "/usr/local/lib/python3.10/dist-packages/datasets/load.py:759: FutureWarning: The repository for rouge contains custom code which must be executed to correctly load the metric. You can inspect the repository content at https://raw.githubusercontent.com/huggingface/datasets/2.19.1/metrics/rouge/rouge.py\n",
            "You can avoid this message in future by passing the argument `trust_remote_code=True`.\n",
            "Passing `trust_remote_code=True` will be mandatory to load this metric from the next major release of `datasets`.\n",
            "  warnings.warn(\n"
          ]
        },
        {
          "output_type": "stream",
          "name": "stdout",
          "text": [
            "{'rouge1': AggregateScore(low=Score(precision=0.4045533882605184, recall=0.18283150811056773, fmeasure=0.2389389486923416), mid=Score(precision=0.42970027012513445, recall=0.1984768832752028, fmeasure=0.2542120990521726), high=Score(precision=0.4581086107097112, recall=0.21621503579276377, fmeasure=0.270071146479943)), 'rouge2': AggregateScore(low=Score(precision=0.11154688421627947, recall=0.04859435288428194, fmeasure=0.06369366687595103), mid=Score(precision=0.13355291184225063, recall=0.059085685072790835, fmeasure=0.07560508151545095), high=Score(precision=0.16359496697063813, recall=0.07143546569676912, fmeasure=0.08992721911286349)), 'rougeL': AggregateScore(low=Score(precision=0.24435885898433699, recall=0.10804903846730468, fmeasure=0.1424887333460836), mid=Score(precision=0.26544110806649895, recall=0.11954878802821375, fmeasure=0.15345133862132787), high=Score(precision=0.29173328580384816, recall=0.13151396963524747, fmeasure=0.16447118030673138)), 'rougeLsum': AggregateScore(low=Score(precision=0.33746234156472377, recall=0.15097079252129805, fmeasure=0.19831966439786228), mid=Score(precision=0.3610713280714077, recall=0.164227911486855, fmeasure=0.21154015329498332), high=Score(precision=0.38836441823101303, recall=0.17866298481159948, fmeasure=0.2254814806579231))}\n"
          ]
        }
      ]
    },
    {
      "cell_type": "code",
      "source": [
        "from typing import Dict, Any\n",
        "\n",
        "def simplify_rouge_scores(rouge_scores: Dict[str, Any]) -> str:\n",
        "    simplified_text = \"\"\n",
        "    for key, value in rouge_scores.items():\n",
        "        # Extract low, mid, and high scores for each ROUGE metric\n",
        "        low, mid, high = value.low, value.mid, value.high\n",
        "        simplified_text += f\"{key}: Precision ranges from {low.precision:.2%} to {high.precision:.2%}, \"\n",
        "        simplified_text += f\"Recall ranges from {low.recall:.2%} to {high.recall:.2%}, \"\n",
        "        simplified_text += f\"F1 Score ranges from {low.fmeasure:.2%} to {high.fmeasure:.2%}.\\n\"\n",
        "\n",
        "    return simplified_text"
      ],
      "metadata": {
        "id": "MBn6XjM-OFw1"
      },
      "execution_count": 99,
      "outputs": []
    },
    {
      "cell_type": "code",
      "source": [
        "# Rouge scores\n",
        "print(simplify_rouge_scores(rouge_scores))"
      ],
      "metadata": {
        "colab": {
          "base_uri": "https://localhost:8080/"
        },
        "id": "xYZ0dFa-OGil",
        "outputId": "a344a86c-319a-4c76-a9df-3f5fac721591"
      },
      "execution_count": 100,
      "outputs": [
        {
          "output_type": "stream",
          "name": "stdout",
          "text": [
            "rouge1: Precision ranges from 40.46% to 45.81%, Recall ranges from 18.28% to 21.62%, F1 Score ranges from 23.89% to 27.01%.\n",
            "rouge2: Precision ranges from 11.15% to 16.36%, Recall ranges from 4.86% to 7.14%, F1 Score ranges from 6.37% to 8.99%.\n",
            "rougeL: Precision ranges from 24.44% to 29.17%, Recall ranges from 10.80% to 13.15%, F1 Score ranges from 14.25% to 16.45%.\n",
            "rougeLsum: Precision ranges from 33.75% to 38.84%, Recall ranges from 15.10% to 17.87%, F1 Score ranges from 19.83% to 22.55%.\n",
            "\n"
          ]
        }
      ]
    }
  ]
}